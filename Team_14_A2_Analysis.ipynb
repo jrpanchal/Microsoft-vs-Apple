{
 "cells": [
  {
   "cell_type": "markdown",
   "metadata": {},
   "source": [
    "<br><h3> A2 | Unsupervised Analysis Project </h3>\n",
    "<h4>DAT-5303 | Machine Learning</h4>\n",
    "Team 14 - Noah Freedman, Rui Kang, Jesal Panchal & Arline Garin<br>\n",
    "Hult International Business School<br><br>\n",
    "\n",
    "<h2 style='margin-top:25.0pt;margin-right:0cm;margin-bottom:15.0pt;margin-left:0cm;text-align:center;border:none;padding:0cm;font-size:29px;font-family:\"Calibri Light\",sans-serif;color:#833C0B;font-weight:normal;'>Windows or Mac?</h2>\n",
    "<hr style=\"height:.9px;border:none;color:#833C0B ;background-color:#833C0B ;\" />\n",
    "<hr style=\"height:.9px;border:none;color:#833C0B ;background-color:#833C0B ;\" />"
   ]
  },
  {
   "cell_type": "markdown",
   "metadata": {},
   "source": [
    "<b>Research Question: Apple or Microsoft?</b>\n",
    "\n",
    "Since the beginning of the tech boom, consumers have always been faced with this question when buying a laptop. Each containing their own pros and cons consumers constantly ponder which fulfill their wants more and which is dominant in its overall performance. Each manufacturer must dissect why consumers buy their products based on behaviors and preferences but more specifically, who buys them. Throughout the analysis, personae will be made based on psychological behaviors and demographics to pinpoint potential buyers.\n",
    "\n",
    "To further enhance data analysis a survey was conducted revolving around the <b>\"Big Five Personality Traits\"</b>, also known as \"OCEAN\", and the <b>Hult DNA</b>.\n",
    "\n",
    "<b>Big Five Traits (OCEAN): </b>\n",
    "1) Openness to Experiences \\\n",
    "2) Conscientiousness \\\n",
    "2) Extroverted \\\n",
    "4) Agreeableness \\\n",
    "5) Neuroticism  \n",
    "\n",
    "<b>Hult DNA:</b>\n",
    "1) Thinking   \n",
    "2) Communicating  \n",
    "3) Team Building\n",
    "\n",
    "<b>Assumptions: </b>\\\n",
    "The data, including demographics, is fully representative of what the companies are studying. Furthermore, readers, knowledgeable of what the Big Five traits and Hult DNA encompass.\n",
    "\n",
    "<b>Methodology: </b> \n",
    "\n",
    "The analysis will be based on analyzing the demographics and psycho-graphics of the respondents. Since OCEAN and Hult DNA measure behavioral and psychometric tendencies, they will be analyzed in unison during the unsupervised learning while demographic data will be used to complement and magnify results generating valuable insights and takeaways."
   ]
  },
  {
   "cell_type": "code",
   "execution_count": 93,
   "metadata": {},
   "outputs": [],
   "source": [
    "# Importing Libraries and Packages \n",
    "import numpy as np                                      # mathematical essentials\n",
    "import pandas            as pd                          # data science essentials\n",
    "import matplotlib.pyplot as plt                         # fundamental data visualization\n",
    "import seaborn           as sns                         # enhanced visualizations\n",
    "from sklearn.preprocessing   import StandardScaler      # standard scaler\n",
    "from sklearn.decomposition   import PCA                 # pca\n",
    "from scipy.cluster.hierarchy import dendrogram, linkage # dendrograms\n",
    "from sklearn.cluster         import KMeans              # k-means clustering\n",
    "\n",
    "\n",
    "# Setting Pandas Print Options\n",
    "pd.set_option('display.max_rows', 500)\n",
    "pd.set_option('display.max_columns', 500)\n",
    "pd.set_option('display.width', 1000)\n",
    "pd.set_option('display.max_colwidth', 100)\n",
    "\n",
    "# Specifying the path and reading the excel file into python as dataset\n",
    "file = './survey_data.xlsx'\n",
    "dataset = pd.read_excel(io = file)\n",
    "\n",
    "# Checking the File head\n",
    "#dataset.head(n = 5)"
   ]
  },
  {
   "cell_type": "code",
   "execution_count": 94,
   "metadata": {},
   "outputs": [],
   "source": [
    "# outlier and threshold mapping  \n",
    "def threshold_outlier_flagging(dataframe, feature, threshold_val, threshold_type, bound):\n",
    "#     automate outlier and flagging process\n",
    "    if threshold_type == 'outlier':\n",
    "        if bound == 'high':\n",
    "            _out_label = \"out_{}_hi\".format(feature)\n",
    "            dataframe.loc[:, _out_label] = 0\n",
    "            for index, val in dataframe.iterrows(): \n",
    "                if dataframe.loc[index, feature] > threshold_val:\n",
    "                    dataframe.loc[index, _out_label] = 1\n",
    "        elif bound == \"low\":\n",
    "            _out_label = \"out_{}_lo\".format(feature)\n",
    "            dataframe.loc[:, _out_label] = 0\n",
    "            for index, val in dataframe.iterrows(): \n",
    "                if dataframe.loc[index, feature] < threshold_val:\n",
    "                    dataframe.loc[index, _out_label] = 1\n",
    "        else:\n",
    "            print(\"Flagging of outliers failed\")\n",
    "            \n",
    "    elif threshold_type == 'threshold':\n",
    "        if bound == 'high':\n",
    "            _out_label = \"flag_{}_hi\".format(feature)\n",
    "            dataframe.loc[:, _out_label] = 0\n",
    "            for index, val in dataframe.iterrows(): \n",
    "                if dataframe.loc[index, feature] > threshold_val:\n",
    "                    dataframe.loc[index, _out_label] = 1\n",
    "        elif bound == \"low\":\n",
    "            _out_label = \"flag_{}_lo\".format(feature)\n",
    "            dataframe.loc[:, _out_label] = 0\n",
    "            for index, val in dataframe.iterrows(): \n",
    "                if dataframe.loc[index, feature] < threshold_val:\n",
    "                    dataframe.loc[index, _out_label] = 1\n",
    "        else:\n",
    "            print(\"Gandalf, the process has failed\")\n",
    "            \n",
    "    elif threshold_type == 'trend':\n",
    "        _out_label = \"trend_{}\".format(feature)\n",
    "        dataframe.loc[:, _out_label] = 0\n",
    "        for index, val in dataframe.iterrows(): \n",
    "            if dataframe.loc[index, feature] == threshold_val:\n",
    "                dataframe.loc[index, _out_label] = 1\n",
    "\n",
    "########################################\n",
    "# pca_plotter\n",
    "########################################\n",
    "# optional color scheme\n",
    "colors_lst = [\"#476A2A\", \"#7851B8\", \"#BD3430\", \"#4A2D4E\", \"#875525\",\n",
    "              \"#A83683\", \"#4E655E\", \"#853541\", \"#3A3120\", \"#535D8E\"]\n",
    "\n",
    "\n",
    "# pca_plotter\n",
    "def pca_plotter(bunch,\n",
    "                colors  = None,\n",
    "                x_label = \"First principal component\",\n",
    "                y_label = \"Second principal component\"):\n",
    "    \"\"\"\n",
    "PARAMETERS\n",
    "----------\n",
    "bunch        : Bunch object to be used in PCA\n",
    "colors       : color coding for target labels, default None\n",
    "x_label      : x-label for PC 0, default \"First principal component\"\n",
    "y_label      : y-label for PC 1, default \"Second principal component\"\n",
    "\"\"\"\n",
    "\n",
    "    # INSTANTIATING a PCA object\n",
    "    pca = PCA(n_components = 2,\n",
    "              random_state = 219)\n",
    "\n",
    "\n",
    "    # FITTING and TRANSFORMING the data\n",
    "    dataset_pca = pca.fit_transform(bunch.data)\n",
    "\n",
    "    \n",
    "    # setting figure options\n",
    "    plt.figure(figsize=(10, 10))\n",
    "    plt.xlim(dataset_pca[:, 0].min(), dataset_pca[:, 0].max())\n",
    "    plt.ylim(dataset_pca[:, 1].min(), dataset_pca[:, 1].max())\n",
    "\n",
    "\n",
    "    # data vizualization\n",
    "    for i in range(len(bunch.data)):\n",
    "\n",
    "        plt.text(dataset_pca[i, 0],\n",
    "                 dataset_pca[i, 1],\n",
    "                 str(bunch.target[i]),\n",
    "                 color = colors[bunch.target[i]],\n",
    "                 fontdict={'weight': 'bold', 'size': 9})\n",
    "\n",
    "    plt.xlabel(xlabel = x_label)\n",
    "    plt.ylabel(ylabel = y_label)\n",
    "    plt.show()\n",
    "\n",
    "    \n",
    "########################################\n",
    "# tsne_plotter\n",
    "########################################\n",
    "# optional color scheme\n",
    "colors_lst = [\"#476A2A\", \"#7851B8\", \"#BD3430\", \"#4A2D4E\", \"#875525\",\n",
    "              \"#A83683\", \"#4E655E\", \"#853541\", \"#3A3120\", \"#535D8E\"]\n",
    "\n",
    "\n",
    "# tsne_plotter\n",
    "def tsne_plotter(bunch,\n",
    "                 colors  = None,\n",
    "                 x_label = \"t-SNE feature 0\",\n",
    "                 y_label = \"t-SNE feature 1\"):\n",
    "    \"\"\"\n",
    "PARAMETERS\n",
    "----------\n",
    "bunch        : Bunch object to be used in TSNE\n",
    "colors       : color coding for target labels, default None\n",
    "x_label      : x-label for t-SNE feature 0, default \"t-SNE feature 0\"\n",
    "y_label      : y-label for t-SNE feature 1, default \"t-SNE feature 1\"\n",
    "\"\"\"\n",
    "    \n",
    "    # INSTANTIATING a PCA object\n",
    "    tsne = TSNE(random_state = 219)\n",
    "\n",
    "    \n",
    "    # FITTING and TRANSFORMING the data\n",
    "    dataset_tsne = tsne.fit_transform(bunch.data)\n",
    "\n",
    "    \n",
    "    # setting figure options\n",
    "    plt.figure(figsize=(10, 10))\n",
    "    plt.xlim(dataset_tsne[:, 0].min(), dataset_tsne[:, 0].max() + 1)\n",
    "    plt.ylim(dataset_tsne[:, 1].min(), dataset_tsne[:, 1].max() + 1)\n",
    "\n",
    "    \n",
    "    # data vizualization\n",
    "    for i in range(len(bunch.data)):\n",
    "\n",
    "        plt.text(dataset_tsne[i, 0],\n",
    "                 dataset_tsne[i, 1],\n",
    "                 str(bunch.target[i]),\n",
    "                 color    = colors[bunch.target[i]],\n",
    "                 fontdict = {'weight': 'bold', 'size': 9})\n",
    "\n",
    "    plt.xlabel(xlabel = x_label)\n",
    "    plt.ylabel(ylabel = y_label)\n",
    "    plt.show()\n",
    "    \n",
    "########################################\n",
    "# scree_plot\n",
    "########################################\n",
    "def scree_plot(pca_object, export = False):\n",
    "    # building a scree plot\n",
    "\n",
    "    # setting plot size\n",
    "    fig, ax = plt.subplots(figsize=(10, 8))\n",
    "    features = range(pca_object.n_components_)\n",
    "\n",
    "\n",
    "    # developing a scree plot\n",
    "    plt.plot(features,\n",
    "             pca_object.explained_variance_ratio_,\n",
    "             linewidth = 2,\n",
    "             marker = 'o',\n",
    "             markersize = 10,\n",
    "             markeredgecolor = 'black',\n",
    "             markerfacecolor = 'grey')\n",
    "\n",
    "\n",
    "    # setting more plot options\n",
    "    plt.title('Scree Plot')\n",
    "    plt.xlabel('PCA feature')\n",
    "    plt.ylabel('Explained Variance')\n",
    "    plt.xticks(features)\n",
    "\n",
    "    if export == True:\n",
    "    \n",
    "        # exporting the plot\n",
    "        plt.savefig('top_customers_correlation_scree_plot.png')\n",
    "        \n",
    "    # displaying the plot\n",
    "    plt.show()\n",
    "    \n",
    "########################################\n",
    "# inertia\n",
    "########################################\n",
    "def interia_plot(data, max_clust = 50):\n",
    "    \"\"\"\n",
    "PARAMETERS\n",
    "----------\n",
    "data      : DataFrame, data from which to build clusters. Dataset should be scaled\n",
    "max_clust : int, maximum of range for how many clusters to check interia, default 50\n",
    "    \"\"\"\n",
    "\n",
    "    ks = range(1, max_clust)\n",
    "    inertias = []\n",
    "\n",
    "\n",
    "    for k in ks:\n",
    "        # INSTANTIATING a kmeans object\n",
    "        model = KMeans(n_clusters = k)\n",
    "\n",
    "\n",
    "        # FITTING to the data\n",
    "        model.fit(data)\n",
    "\n",
    "\n",
    "        # append each inertia to the list of inertias\n",
    "        inertias.append(model.inertia_)\n",
    "\n",
    "\n",
    "\n",
    "    # plotting ks vs inertias\n",
    "    fig, ax = plt.subplots(figsize = (12, 8))\n",
    "    plt.plot(ks, inertias, '-o')\n",
    "\n",
    "\n",
    "    # labeling and displaying the plot\n",
    "    plt.xlabel('number of clusters, k')\n",
    "    plt.ylabel('inertia')\n",
    "    plt.xticks(ks)\n",
    "    plt.show()"
   ]
  },
  {
   "cell_type": "markdown",
   "metadata": {},
   "source": [
    "<div style='margin-top:0cm;margin-right:0cm;margin-bottom:10.0pt;margin-left:0cm;line-height:115%;font-size:15px;font-family:\"Calibri Light\",sans-serif;border-top:dotted #833C0B 1.0pt;border-left:none;border-bottom:dotted #833C0B 1.0pt;border-right:none;padding:1.0pt 0cm 6.0pt 0cm;'>\n",
    "    <h2 style='margin-top:25.0pt;margin-right:0cm;margin-bottom:15.0pt;margin-left:0cm;text-align:center;border:none;padding:0cm;font-size:29px;font-family:\"Calibri Light\",sans-serif;color:#833C0B;font-weight:normal;'>Data Cleaning</h2>\n",
    "</div>"
   ]
  },
  {
   "cell_type": "markdown",
   "metadata": {},
   "source": [
    "### Nationality"
   ]
  },
  {
   "cell_type": "code",
   "execution_count": 95,
   "metadata": {},
   "outputs": [],
   "source": [
    "## Renaming Columns ##\n",
    "\n",
    "# Renaming the Nationality column \n",
    "dataset.rename(columns = {'What is your nationality? ':'Nationality'}, inplace = True)\n",
    "\n",
    "# Renaming the Age column\n",
    "dataset.rename(columns = {'What is your age?':'Age'}, inplace = True)\n",
    "\n",
    "#dataset.shape"
   ]
  },
  {
   "cell_type": "code",
   "execution_count": 96,
   "metadata": {},
   "outputs": [],
   "source": [
    "dataset['Nationality'] = dataset['Nationality'].str.capitalize()\n",
    "\n",
    "for index, row in dataset.iterrows(): \n",
    "    \n",
    "    if 'Usa' in dataset.loc[index, 'Nationality']:\n",
    "        dataset.loc[index, 'Nationality'] = 'American'\n",
    "        \n",
    "    elif 'Ind' in dataset.loc[index, 'Nationality']:\n",
    "        dataset.loc[index, 'Nationality'] = 'Indian'\n",
    "        \n",
    "    elif 'Congo' in dataset.loc[index, 'Nationality']:\n",
    "        dataset.loc[index, 'Nationality'] = 'Congolese'\n",
    "        \n",
    "    elif 'Kor' in dataset.loc[index, 'Nationality'] or 'kor' in dataset.loc[index, 'Nationality']:\n",
    "        dataset.loc[index, 'Nationality'] = 'Korean'\n",
    "        \n",
    "    elif 'Ecua' in dataset.loc[index, 'Nationality']:\n",
    "        dataset.loc[index, 'Nationality'] = 'Ecuadorian'\n",
    "        \n",
    "    elif 'Chi' in dataset.loc[index, 'Nationality']:\n",
    "        dataset.loc[index, 'Nationality'] = 'Chinese'\n",
    "        \n",
    "    elif 'Phili' in dataset.loc[index, 'Nationality'] or 'Fili' in dataset.loc[index, 'Nationality']:\n",
    "        dataset.loc[index, 'Nationality'] = 'Filipino'\n",
    "        \n",
    "    elif 'Tai' in dataset.loc[index, 'Nationality']:\n",
    "        dataset.loc[index, 'Nationality'] = 'Taiwanese'\n",
    "        \n",
    "    elif 'Prefer' in dataset.loc[index, 'Nationality']:\n",
    "        dataset.loc[index, 'Nationality'] = 'Unknown'\n",
    "        \n",
    "    elif 'Russ' in dataset.loc[index, 'Nationality'] or 'russ' in dataset.loc[index, 'Nationality']:\n",
    "        dataset.loc[index, 'Nationality'] = 'Russian'\n",
    "        \n",
    "    elif 'Maur' in dataset.loc[index, 'Nationality']:\n",
    "        dataset.loc[index, 'Nationality'] = 'Mauritian'\n",
    "        \n",
    "    elif 'Belar' in dataset.loc[index, 'Nationality']: \n",
    "        dataset.loc[index, 'Nationality'] = 'Belarusian'\n",
    "        \n",
    "    elif 'Belg' in dataset.loc[index, 'Nationality']: \n",
    "        dataset.loc[index, 'Nationality'] = 'Belgian'\n",
    "        \n",
    "    elif 'Domin' in dataset.loc[index, 'Nationality']:\n",
    "        dataset.loc[index, 'Nationality'] = 'Dominican'\n",
    "        \n",
    "    elif 'Japan' in dataset.loc[index, 'Nationality']:\n",
    "        dataset.loc[index, 'Nationality'] = 'Japanese'\n",
    "    \n",
    "    elif 'German' in dataset.loc[index, 'Nationality']:\n",
    "        dataset.loc[index, 'Nationality'] = 'German'\n",
    "        \n",
    "    elif 'Czech' in dataset.loc[index, 'Nationality']:\n",
    "        dataset.loc[index, 'Nationality'] = 'Czech' \n",
    "        \n",
    "    elif 'Colombia' in dataset.loc[index, 'Nationality']:\n",
    "        dataset.loc[index, 'Nationality'] = 'Colombian'\n",
    "        \n",
    "    elif 'Spa' in dataset.loc[index, 'Nationality'] or 'spa' in dataset.loc[index, 'Nationality']:\n",
    "        dataset.loc[index, 'Nationality'] = 'Spanish'\n",
    "        \n",
    "    elif 'Peru' in dataset.loc[index, 'Nationality']:\n",
    "        dataset.loc[index, 'Nationality'] = 'Peruvian'\n",
    "        \n",
    "    elif 'Panam' in dataset.loc[index, 'Nationality']:\n",
    "        dataset.loc[index, 'Nationality'] = 'Panamanian'\n",
    "        \n",
    "    elif 'Canad' in dataset.loc[index, 'Nationality']:\n",
    "        dataset.loc[index, 'Nationality'] = 'Canadian'\n",
    "    \n",
    "    elif 'Nige' in dataset.loc[index, 'Nationality']:\n",
    "        dataset.loc[index, 'Nationality'] = 'Nigerian'\n",
    "        \n",
    "    elif 'Braz' in dataset.loc[index, 'Nationality']:\n",
    "        dataset.loc[index, 'Nationality'] = 'Brazilian'\n",
    "        \n",
    "    elif 'indi' in dataset.loc[index, 'Nationality']:\n",
    "        dataset.loc[index, 'Nationality'] = 'Indian'"
   ]
  },
  {
   "cell_type": "code",
   "execution_count": 97,
   "metadata": {},
   "outputs": [],
   "source": [
    "# Create World Region feature \n",
    "\n",
    "dataset['World_Region'] = 0\n",
    "\n",
    "for index, row in dataset.iterrows(): \n",
    "    \n",
    "    if 'American' in dataset.loc[index, 'Nationality'] or 'Canadian' in dataset.loc[index, 'Nationality'] or 'Mexican' in dataset.loc[index, 'Nationality']:\n",
    "        dataset.loc[index, 'World_Region'] = 'North_America' \n",
    "        \n",
    "    elif 'Peruvian' in dataset.loc[index, 'Nationality'] or 'Brazilian' in dataset.loc[index, 'Nationality'] or \\\n",
    "    'Colombian' in dataset.loc[index, 'Nationality'] or 'Ecuadorian' in dataset.loc[index, 'Nationality'] or \\\n",
    "    'Dominican' in dataset.loc[index, 'Nationality'] or 'Panamanian' in dataset.loc[index, 'Nationality'] or \\\n",
    "    'Costarrican' in dataset.loc[index, 'Nationality'] or 'Venezuelan' in dataset.loc[index, 'Nationality']:\n",
    "        dataset.loc[index, 'World_Region'] = 'South_America'\n",
    "        \n",
    "    elif 'Indian' in dataset.loc[index, 'Nationality'] or 'Chinese' in dataset.loc[index, 'Nationality'] or \\\n",
    "    'Korean' in dataset.loc[index, 'Nationality'] or 'Taiwanese' in dataset.loc[index, 'Nationality'] or \\\n",
    "    'Filipino' in dataset.loc[index, 'Nationality'] or 'Thai' in dataset.loc[index, 'Nationality'] or \\\n",
    "    'Vietnamese' in dataset.loc[index, 'Nationality'] or 'Japanese' in dataset.loc[index, 'Nationality']:\n",
    "        dataset.loc[index, 'World_Region'] = 'Asia'\n",
    "        \n",
    "    elif 'German' in dataset.loc[index, 'Nationality'] or 'Russian' in dataset.loc[index, 'Nationality'] or \\\n",
    "    'Spanish' in dataset.loc[index, 'Nationality'] or 'Italian' in dataset.loc[index, 'Nationality'] or \\\n",
    "    'Norwegian' in dataset.loc[index, 'Nationality'] or 'Czech' in dataset.loc[index, 'Nationality'] or \\\n",
    "    'Ukrainian' in dataset.loc[index, 'Nationality'] or 'Swiss' in dataset.loc[index, 'Nationality'] or \\\n",
    "    'Belgian' in dataset.loc[index, 'Nationality'] or 'British' in dataset.loc[index, 'Nationality'] or \\\n",
    "    'Portuguese' in dataset.loc[index, 'Nationality'] or 'Belarusian' in dataset.loc[index, 'Nationality']:\n",
    "        dataset.loc[index, 'World_Region'] = 'Europe'\n",
    "        \n",
    "    elif 'Turkish' in dataset.loc[index, 'Nationality'] or 'Kyrgyz' in dataset.loc[index, 'Nationality']:\n",
    "        dataset.loc[index, 'World_Region'] = 'Middle_East'\n",
    "        \n",
    "    elif 'Nigerian' in dataset.loc[index, 'Nationality'] or 'Congolese' in dataset.loc[index, 'Nationality'] or \\\n",
    "    'Mauritian' in dataset.loc[index, 'Nationality'] or 'Ugandan' in dataset.loc[index, 'Nationality'] or \\\n",
    "    'Ghanaian' in dataset.loc[index, 'Nationality'] or 'Kenyan' in dataset.loc[index, 'Nationality'] or \\\n",
    "    'Pakistani' in dataset.loc[index, 'Nationality']:\n",
    "        dataset.loc[index, 'World_Region'] = 'Africa'\n",
    "        \n",
    "    elif 'Unknown' in dataset.loc[index, 'Nationality']:\n",
    "        dataset.loc[index, 'World_Region'] = 'Unknown'"
   ]
  },
  {
   "cell_type": "markdown",
   "metadata": {},
   "source": [
    "### Laptop-related Columns"
   ]
  },
  {
   "cell_type": "code",
   "execution_count": 98,
   "metadata": {},
   "outputs": [],
   "source": [
    "# What laptop would you buy in next assuming if all laptops cost the same?\n",
    "# Cleaning up the \"Chromebook\" answers to \"Windows laptop\"\n",
    "for index, row in dataset.iterrows(): \n",
    "    \n",
    "    if 'Chromebook' in dataset.loc[index, 'What laptop would you buy in next assuming if all laptops cost the same?']:\n",
    "        dataset.loc[index, 'What laptop would you buy in next assuming if all laptops cost the same?'] = 'Windows'\n",
    "        \n",
    "    if 'Windows laptop' in dataset.loc[index, 'What laptop would you buy in next assuming if all laptops cost the same?']:\n",
    "        dataset.loc[index, 'What laptop would you buy in next assuming if all laptops cost the same?'] = 'Windows'\n",
    "        \n",
    "    if 'Windows laptop' in dataset.loc[index, 'What laptop do you currently have?']:\n",
    "        dataset.loc[index, 'What laptop do you currently have?'] = 'Windows'"
   ]
  },
  {
   "cell_type": "markdown",
   "metadata": {},
   "source": [
    "### Duplicated questions "
   ]
  },
  {
   "cell_type": "code",
   "execution_count": 99,
   "metadata": {},
   "outputs": [],
   "source": [
    "# Dealing with repeated columns\n",
    "dataset = dataset.drop(['Encourage direct and open discussions.1',\"Take initiative even when circumstances, objectives, or rules aren't clear.1\", \n",
    "              'Respond effectively to multiple priorities.1'], axis = 1)\n",
    "    \n",
    "#dataset.shape"
   ]
  },
  {
   "cell_type": "markdown",
   "metadata": {},
   "source": [
    "Within the survey there were three identical questions. To avoid distortion, the duplicated questions were removed to ensure true results throughout the analysis. "
   ]
  },
  {
   "cell_type": "markdown",
   "metadata": {},
   "source": [
    "### Inversed questions "
   ]
  },
  {
   "cell_type": "code",
   "execution_count": 100,
   "metadata": {},
   "outputs": [],
   "source": [
    "# 'Am not interested in abstract ideas' - 'Have a vivid imagination'\n",
    "# 'Am the life of the party' - 'Don't like to draw attention to myself'\n",
    "# 'Get chores done right away' - 'Shirk my duties'\n",
    "# 'Like order' - 'Often forget to put things back in their proper place'\n",
    "# 'Am easily disturbed' - 'Am relaxed most of the time'\n",
    "# 'Am not interested in other people's problems' - 'Feel others' emotions'\n",
    "# 'Insult people' - 'Sympathize with others' feelings'\n",
    "\n",
    "\n",
    "for index, row in dataset.iterrows():\n",
    "    if row['Get chores done right away'] - row['Shirk my duties'] > 3:\n",
    "        dataset.drop(index, inplace = True)\n",
    "\n",
    "for index, row in dataset.iterrows():\n",
    "    if row[\"Like order\"] - row[\"Often forget to put things back in their proper place\"] > 3:\n",
    "        dataset.drop(index, inplace = True)\n",
    "        \n",
    "#dataset.shape"
   ]
  },
  {
   "cell_type": "markdown",
   "metadata": {},
   "source": [
    "One main issue when distributing a long survey is the possibility of proxy responses. These responses although they count as observations, in fact, distort any analysis as they are not true answers. To avoid responses we analyzed if contradicting questions were answered with similar responses; if so those observations were removed."
   ]
  },
  {
   "cell_type": "markdown",
   "metadata": {},
   "source": [
    "### Outlier Flagging"
   ]
  },
  {
   "cell_type": "code",
   "execution_count": 101,
   "metadata": {},
   "outputs": [
    {
     "data": {
      "image/png": "[encoded data removed]",
      "text/plain": [
       "<Figure size 432x288 with 1 Axes>"
      ]
     },
     "metadata": {
      "needs_background": "light"
     },
     "output_type": "display_data"
    }
   ],
   "source": [
    "# Boxplot of Age\n",
    "age = dataset['Age']\n",
    "sns.boxplot(data = dataset,\n",
    "            x = age,\n",
    "            color = 'yellow')\n",
    "\n",
    "plt.title(label   = 'Boxplot of Age')\n",
    "plt.xlabel(xlabel = 'Age')\n",
    "\n",
    "plt.show()"
   ]
  },
  {
   "cell_type": "markdown",
   "metadata": {},
   "source": [
    "Since the majority of the respondents were in specific age groups, we analyzed the outliers to further develop the groups. Below we have created specific age groups to be used to enhance our analysis and recommendations. "
   ]
  },
  {
   "cell_type": "code",
   "execution_count": 102,
   "metadata": {},
   "outputs": [],
   "source": [
    "# Define a funtion for outlier flagging in the next cell\n",
    "def flag_outlier(x):\n",
    "    if x <= 36 and x >= 21:\n",
    "        return 0\n",
    "    \n",
    "    else:\n",
    "        return 1\n",
    "    \n",
    "# Create a new column out_age for outlier flagging\n",
    "\n",
    "dataset['out_age'] = dataset['Age'].apply(lambda x: flag_outlier(x))"
   ]
  },
  {
   "cell_type": "code",
   "execution_count": 103,
   "metadata": {},
   "outputs": [],
   "source": [
    "# Define a function to group different age \n",
    "def age_group(x):\n",
    "    if x < 25:\n",
    "        return 'Less than 25'\n",
    "    \n",
    "    elif x >= 25 and x <= 35:\n",
    "        return 'Between 25 and 35'\n",
    "    \n",
    "    elif x > 35:\n",
    "        return 'More than 35'\n",
    "    \n",
    "    else:\n",
    "        print(\"Out of range\")\n",
    "        \n",
    "# Create a new column based on question 'What is your age?'\n",
    "dataset['Age_Group'] = dataset['Age'].apply(lambda x: age_group(x))"
   ]
  },
  {
   "cell_type": "code",
   "execution_count": 104,
   "metadata": {},
   "outputs": [
    {
     "data": {
      "text/plain": [
       "Between 25 and 35    71\n",
       "Less than 25         35\n",
       "More than 35          8\n",
       "Name: Age_Group, dtype: int64"
      ]
     },
     "execution_count": 104,
     "metadata": {},
     "output_type": "execute_result"
    }
   ],
   "source": [
    "dataset['Age_Group'].value_counts()"
   ]
  },
  {
   "cell_type": "markdown",
   "metadata": {},
   "source": [
    "### Inversing values \n",
    "\n",
    "For this analysis, the rankings were adjusted on the questions where the inverse is true. When a respondent ranks a question low where the inverse is positive then the function will convert the rating accordingly."
   ]
  },
  {
   "cell_type": "code",
   "execution_count": 105,
   "metadata": {},
   "outputs": [],
   "source": [
    "# Creating function to adjust answer numbers: \n",
    "def change_number (column): \n",
    "    dataset[column]=dataset[column].replace(to_replace=1,value=5)\n",
    "    dataset[column]=dataset[column].replace(to_replace=5,value=1)\n",
    "    dataset[column]=dataset[column].replace(to_replace=4,value=2)\n",
    "    dataset[column]=dataset[column].replace(to_replace=2,value=4)"
   ]
  },
  {
   "cell_type": "code",
   "execution_count": 106,
   "metadata": {},
   "outputs": [],
   "source": [
    "change_number([\"Don't talk a lot\",\n",
    "'Leave my belongings around',\n",
    "'Am relaxed most of the time',\n",
    "'Have difficulty understanding abstract ideas',\n",
    "'Insult people',\n",
    "'Keep in the background',\n",
    "'Make a mess of things', \n",
    "'Am not interested in abstract ideas',\n",
    "\"Am not interested in other people's problems\",\n",
    "'Have excellent ideas',\n",
    "'Have little to say', \n",
    "\"Often forget to put things back in their proper place\",\n",
    "\"Do not have a good imagination\",\n",
    "\"Am not really interested in others\",\n",
    "\"Don't like to draw attention to myself\",\n",
    "\"Shirk my duties\",\n",
    "\"Am quiet around strangers\",\n",
    "\"Don't  generate ideas that are new and different\",\n",
    "\"Don't persuasively sell a vision or idea\",\n",
    "\"Can't rally people on the team around a common goal\",              \n",
    "\"Don't  generate ideas that are new and different\",\n",
    "\"Don't persuasively sell a vision or idea\",\n",
    "\"Can't rally people on the team around a common goal\"])"
   ]
  },
  {
   "cell_type": "markdown",
   "metadata": {},
   "source": [
    "## New variables with Big 5 Personalities and Hult DNA"
   ]
  },
  {
   "cell_type": "code",
   "execution_count": 107,
   "metadata": {},
   "outputs": [],
   "source": [
    "#Big 5 Personality Traits\n",
    "\n",
    "# column mapping\n",
    "extrovered_index              = [1, 6, 11, 16, 21, 26, 31, 36, 41, 46]\n",
    "agreeableness_index           = [2, 7, 12, 17, 22, 27, 32, 37, 42, 47]\n",
    "conscientiousness_index       = [3, 8, 13, 18, 23, 28, 33, 38, 43, 48]\n",
    "neuroticism_index             = [4, 9, 14, 19, 24, 29, 34, 39, 44, 49]\n",
    "open_to_new_experiences_index = [5, 10, 15, 20, 25, 30, 35, 40, 45, 50]\n",
    "\n",
    "#Hult DNA\n",
    "\n",
    "# column mapping\n",
    "thinking_index      = [51, 52, 53, 54, 56]\n",
    "communicating_index = [55, 57, 61, 62, 66]\n",
    "team_building_index = [63, 64, 65, 67, 68, 69, 70]"
   ]
  },
  {
   "cell_type": "code",
   "execution_count": 108,
   "metadata": {},
   "outputs": [],
   "source": [
    "# Creating new variables for big 5 personalities: \n",
    "dataset['Agreeableness'] = dataset.iloc[:,[2, 7, 12, 17, 22, 27, 32, 37, 42, 47]].mean(axis=1)\n",
    "dataset['Conscientiousness'] = dataset.iloc[:,[3, 8, 13, 18, 23, 28, 33, 38, 43, 48]].mean(axis=1)\n",
    "dataset['Extraversion'] = dataset.iloc[:,[1, 6, 11, 16, 21, 26, 31, 36, 41, 46]].mean(axis=1)\n",
    "dataset['Neuroticism'] = dataset.iloc[:,[4, 9, 14, 19, 24, 29, 34, 39, 44, 49]].mean(axis=1)\n",
    "dataset['Openness'] = dataset.iloc[:,[5, 10, 15, 20, 25, 30, 35, 40, 45, 50]].mean(axis=1)\n",
    "\n",
    "# Creating new variables for Hult DNA:\n",
    "dataset['Team building'] = dataset.iloc[:,[63, 64, 65, 67, 68, 69, 70]].mean(axis=1)\n",
    "dataset['Thinking'] = dataset.iloc[:,[51, 52, 53, 54, 56]].mean(axis=1)\n",
    "dataset['Communicating'] = dataset.iloc[:,[55, 57, 61, 62, 66]].mean(axis=1)"
   ]
  },
  {
   "cell_type": "code",
   "execution_count": 109,
   "metadata": {},
   "outputs": [],
   "source": [
    "# Dropping original variables: \n",
    "survey = dataset.drop(dataset.columns[0:79], axis = 1)\n",
    "# Show new features after cleaning\n",
    "#survey.head()"
   ]
  },
  {
   "cell_type": "markdown",
   "metadata": {},
   "source": [
    "### Feature Scaling"
   ]
  },
  {
   "cell_type": "code",
   "execution_count": 110,
   "metadata": {},
   "outputs": [
    {
     "name": "stdout",
     "output_type": "stream",
     "text": [
      "Agreeableness        0.129388\n",
      "Conscientiousness    0.147932\n",
      "Extraversion         0.269348\n",
      "Neuroticism          0.395066\n",
      "Openness             0.104124\n",
      "Team building        0.198289\n",
      "Thinking             0.210477\n",
      "Communicating        0.250526\n",
      "dtype: float64 \n",
      "\n",
      "\n",
      "Agreeableness        1.0\n",
      "Conscientiousness    1.0\n",
      "Extraversion         1.0\n",
      "Neuroticism          1.0\n",
      "Openness             1.0\n",
      "Team building        1.0\n",
      "Thinking             1.0\n",
      "Communicating        1.0\n",
      "dtype: float64\n"
     ]
    }
   ],
   "source": [
    "# INSTANTIATING a StandardScaler() object\n",
    "scaler = StandardScaler()\n",
    "\n",
    "\n",
    "# FITTING the scaler with the data\n",
    "scaler.fit(survey)\n",
    "\n",
    "\n",
    "# TRANSFORMING our data after fit\n",
    "X_scaled = scaler.transform(survey)\n",
    "\n",
    "\n",
    "# converting scaled data into a DataFrame\n",
    "survey_scaled = pd.DataFrame(X_scaled)\n",
    "\n",
    "\n",
    "# reattaching column names\n",
    "survey_scaled.columns = survey.columns\n",
    "\n",
    "\n",
    "# checking pre- and post-scaling variance\n",
    "print(np.var(survey), '\\n\\n')\n",
    "print(np.var(survey_scaled))"
   ]
  },
  {
   "cell_type": "markdown",
   "metadata": {},
   "source": [
    "### Splitting the data "
   ]
  },
  {
   "cell_type": "code",
   "execution_count": 111,
   "metadata": {},
   "outputs": [],
   "source": [
    "# Splitting big 5 \n",
    "Big5 = survey_scaled.iloc[:, 0:5] \n",
    "\n",
    "#Splitting HultDNA\n",
    "Hult = survey_scaled.iloc[:, 5:8]"
   ]
  },
  {
   "cell_type": "code",
   "execution_count": 112,
   "metadata": {},
   "outputs": [],
   "source": [
    "# Big5.head()"
   ]
  },
  {
   "cell_type": "code",
   "execution_count": 113,
   "metadata": {},
   "outputs": [],
   "source": [
    "# Hult.head()"
   ]
  },
  {
   "cell_type": "markdown",
   "metadata": {},
   "source": [
    "<div style='margin-top:0cm;margin-right:0cm;margin-bottom:10.0pt;margin-left:0cm;line-height:115%;font-size:15px;font-family:\"Calibri Light\",sans-serif;border-top:dotted #833C0B 1.0pt;border-left:none;border-bottom:dotted #833C0B 1.0pt;border-right:none;padding:1.0pt 0cm 6.0pt 0cm;'>\n",
    "    <h2 style='margin-top:25.0pt;margin-right:0cm;margin-bottom:15.0pt;margin-left:0cm;text-align:center;border:none;padding:0cm;font-size:29px;font-family:\"Calibri Light\",sans-serif;color:#833C0B;font-weight:normal;'>Big 5</h2>\n",
    "</div>"
   ]
  },
  {
   "cell_type": "code",
   "execution_count": 114,
   "metadata": {},
   "outputs": [
    {
     "data": {
      "image/png": "[encoded data removed]",
      "text/plain": [
       "<Figure size 720x576 with 1 Axes>"
      ]
     },
     "metadata": {
      "needs_background": "light"
     },
     "output_type": "display_data"
    }
   ],
   "source": [
    "#Instantiating PCA object, Big 5, with no limit to principal components\n",
    "Big5_pca = PCA(n_components = None,\n",
    "         random_state = 802)\n",
    "\n",
    "#Fitting and transforming\n",
    "Big5_pca_fit = Big5_pca.fit_transform(Big5)\n",
    "\n",
    "#Calling scree plot function \n",
    "scree_plot(pca_object = Big5_pca)"
   ]
  },
  {
   "cell_type": "markdown",
   "metadata": {},
   "source": [
    "It is reasonable to retain all PCAs as the cumulative explained variance ratio is greater than or equal to 0.80. "
   ]
  },
  {
   "cell_type": "markdown",
   "metadata": {},
   "source": [
    "### Identifying Qualities of Principal Components"
   ]
  },
  {
   "cell_type": "code",
   "execution_count": 115,
   "metadata": {},
   "outputs": [
    {
     "data": {
      "text/html": [
       "<div>\n",
       "<style scoped>\n",
       "    .dataframe tbody tr th:only-of-type {\n",
       "        vertical-align: middle;\n",
       "    }\n",
       "\n",
       "    .dataframe tbody tr th {\n",
       "        vertical-align: top;\n",
       "    }\n",
       "\n",
       "    .dataframe thead th {\n",
       "        text-align: right;\n",
       "    }\n",
       "</style>\n",
       "<table border=\"1\" class=\"dataframe\">\n",
       "  <thead>\n",
       "    <tr style=\"text-align: right;\">\n",
       "      <th></th>\n",
       "      <th>Conservative</th>\n",
       "      <th>Self Regulation</th>\n",
       "      <th>Warmhearted</th>\n",
       "      <th>Action Taker</th>\n",
       "      <th>Adventurer</th>\n",
       "    </tr>\n",
       "  </thead>\n",
       "  <tbody>\n",
       "    <tr>\n",
       "      <th>Agreeableness</th>\n",
       "      <td>-0.359809</td>\n",
       "      <td>-0.498908</td>\n",
       "      <td>0.718138</td>\n",
       "      <td>0.201814</td>\n",
       "      <td>-0.255298</td>\n",
       "    </tr>\n",
       "    <tr>\n",
       "      <th>Conscientiousness</th>\n",
       "      <td>-0.441458</td>\n",
       "      <td>0.373446</td>\n",
       "      <td>-0.230998</td>\n",
       "      <td>0.767908</td>\n",
       "      <td>-0.150366</td>\n",
       "    </tr>\n",
       "    <tr>\n",
       "      <th>Extraversion</th>\n",
       "      <td>-0.550830</td>\n",
       "      <td>0.120620</td>\n",
       "      <td>-0.235873</td>\n",
       "      <td>-0.556478</td>\n",
       "      <td>-0.562790</td>\n",
       "    </tr>\n",
       "    <tr>\n",
       "      <th>Neuroticism</th>\n",
       "      <td>-0.027606</td>\n",
       "      <td>-0.771087</td>\n",
       "      <td>-0.612400</td>\n",
       "      <td>0.165959</td>\n",
       "      <td>-0.045676</td>\n",
       "    </tr>\n",
       "    <tr>\n",
       "      <th>Openness</th>\n",
       "      <td>-0.609489</td>\n",
       "      <td>-0.050048</td>\n",
       "      <td>-0.015725</td>\n",
       "      <td>-0.179938</td>\n",
       "      <td>0.770321</td>\n",
       "    </tr>\n",
       "  </tbody>\n",
       "</table>\n",
       "</div>"
      ],
      "text/plain": [
       "                   Conservative  Self Regulation  Warmhearted  Action Taker  Adventurer\n",
       "Agreeableness         -0.359809        -0.498908     0.718138      0.201814   -0.255298\n",
       "Conscientiousness     -0.441458         0.373446    -0.230998      0.767908   -0.150366\n",
       "Extraversion          -0.550830         0.120620    -0.235873     -0.556478   -0.562790\n",
       "Neuroticism           -0.027606        -0.771087    -0.612400      0.165959   -0.045676\n",
       "Openness              -0.609489        -0.050048    -0.015725     -0.179938    0.770321"
      ]
     },
     "execution_count": 115,
     "metadata": {},
     "output_type": "execute_result"
    }
   ],
   "source": [
    "# transposing pca components (pc = MAX)\n",
    "factor_loadings_Big5 = pd.DataFrame(np.transpose(Big5_pca.components_))\n",
    "\n",
    "# naming rows as original features\n",
    "factor_loadings_Big5 = factor_loadings_Big5.set_index(Big5.columns)\n",
    "\n",
    "# naming each principal component\n",
    "factor_loadings_Big5.columns = ['Conservative',         \n",
    "                               'Self Regulation',          \n",
    "                               'Warmhearted',          \n",
    "                               'Action Taker',          \n",
    "                               'Adventurer']          \n",
    "\n",
    "\n",
    "# checking the result\n",
    "factor_loadings_Big5"
   ]
  },
  {
   "cell_type": "markdown",
   "metadata": {},
   "source": [
    "### Big 5 PCA Components Interpretation\n",
    "\n",
    "\n",
    "- **Factor 1: Conservative**\n",
    "\n",
    "Is unwilling to embrace new experience and challenges and share their thoughts and feelings.\n",
    "\n",
    "- **Factor 2: Self Regulated**\n",
    "\n",
    "Is able to control their emotions. Goal-directed. But sometimes could be too strict.\n",
    "\n",
    "- **Factor 3: Warmhearted**\n",
    "\n",
    "Is able to control their emotions. Feels empathy and concern for other people.\n",
    "\n",
    "- **Factor 4: Action Taker**\n",
    "\n",
    "Don't talk much but plan ahead and think about how their behavior affects others, and are mindful of deadlines. \n",
    "\n",
    "- **Factor 5: Adventurer**\n",
    "\n",
    "Tend to be more adventurous and creative and have a broad range of interests."
   ]
  },
  {
   "cell_type": "markdown",
   "metadata": {},
   "source": [
    "### Factor loadings for each customer"
   ]
  },
  {
   "cell_type": "code",
   "execution_count": 116,
   "metadata": {
    "scrolled": false
   },
   "outputs": [
    {
     "data": {
      "text/html": [
       "<div>\n",
       "<style scoped>\n",
       "    .dataframe tbody tr th:only-of-type {\n",
       "        vertical-align: middle;\n",
       "    }\n",
       "\n",
       "    .dataframe tbody tr th {\n",
       "        vertical-align: top;\n",
       "    }\n",
       "\n",
       "    .dataframe thead th {\n",
       "        text-align: right;\n",
       "    }\n",
       "</style>\n",
       "<table border=\"1\" class=\"dataframe\">\n",
       "  <thead>\n",
       "    <tr style=\"text-align: right;\">\n",
       "      <th></th>\n",
       "      <th>Conservative</th>\n",
       "      <th>Self Regulation</th>\n",
       "      <th>Warmhearted</th>\n",
       "      <th>Action Taker</th>\n",
       "      <th>Adventurer</th>\n",
       "    </tr>\n",
       "  </thead>\n",
       "  <tbody>\n",
       "    <tr>\n",
       "      <th>0</th>\n",
       "      <td>-1.178464</td>\n",
       "      <td>1.458634</td>\n",
       "      <td>-1.179038</td>\n",
       "      <td>1.165330</td>\n",
       "      <td>0.102167</td>\n",
       "    </tr>\n",
       "    <tr>\n",
       "      <th>1</th>\n",
       "      <td>-0.623106</td>\n",
       "      <td>0.038184</td>\n",
       "      <td>-1.258867</td>\n",
       "      <td>1.287655</td>\n",
       "      <td>0.878532</td>\n",
       "    </tr>\n",
       "    <tr>\n",
       "      <th>2</th>\n",
       "      <td>0.294619</td>\n",
       "      <td>1.762262</td>\n",
       "      <td>-0.445085</td>\n",
       "      <td>-0.438173</td>\n",
       "      <td>-0.681367</td>\n",
       "    </tr>\n",
       "    <tr>\n",
       "      <th>3</th>\n",
       "      <td>-0.341871</td>\n",
       "      <td>-1.467990</td>\n",
       "      <td>1.516909</td>\n",
       "      <td>0.405580</td>\n",
       "      <td>-0.353091</td>\n",
       "    </tr>\n",
       "    <tr>\n",
       "      <th>4</th>\n",
       "      <td>-0.601568</td>\n",
       "      <td>-0.553711</td>\n",
       "      <td>-1.124176</td>\n",
       "      <td>-0.215687</td>\n",
       "      <td>0.106402</td>\n",
       "    </tr>\n",
       "  </tbody>\n",
       "</table>\n",
       "</div>"
      ],
      "text/plain": [
       "   Conservative  Self Regulation  Warmhearted  Action Taker  Adventurer\n",
       "0     -1.178464         1.458634    -1.179038      1.165330    0.102167\n",
       "1     -0.623106         0.038184    -1.258867      1.287655    0.878532\n",
       "2      0.294619         1.762262    -0.445085     -0.438173   -0.681367\n",
       "3     -0.341871        -1.467990     1.516909      0.405580   -0.353091\n",
       "4     -0.601568        -0.553711    -1.124176     -0.215687    0.106402"
      ]
     },
     "execution_count": 116,
     "metadata": {},
     "output_type": "execute_result"
    }
   ],
   "source": [
    "# analyzing factor strengths per customer\n",
    "X_pca_reduced = Big5_pca.transform(Big5)\n",
    "\n",
    "\n",
    "# converting to a DataFrame\n",
    "X_pca_big5 = pd.DataFrame(X_pca_reduced)\n",
    "\n",
    "\n",
    "# renaming columns\n",
    "X_pca_big5.columns = factor_loadings_Big5.columns\n",
    "\n",
    "# checking the results\n",
    "X_pca_big5.head()"
   ]
  },
  {
   "cell_type": "code",
   "execution_count": 117,
   "metadata": {},
   "outputs": [],
   "source": [
    "# X_pca_big5.to_excel('./analysis_results/PCA Factor Loadings for Big5.xlsx', index = False)"
   ]
  },
  {
   "cell_type": "markdown",
   "metadata": {},
   "source": [
    "<div style='margin-top:0cm;margin-right:0cm;margin-bottom:10.0pt;margin-left:0cm;line-height:115%;font-size:15px;font-family:\"Calibri Light\",sans-serif;border-top:line #833C0B 1.0pt;border-left:none;border-bottom:solid #833C0B 1.0pt;border-right:none;padding:1.0pt 0cm 6.0pt 0cm;'>\n",
    "    <h2 style='margin-top:25.0pt;margin-right:0cm;margin-bottom:15.0pt;margin-left:0cm;text-align:center;border:none;padding:0cm;font-size:20px;font-family:\"Calibri Light\",sans-serif;color:#833C0B;font-weight:normal;'>Clustering</h2>\n",
    "</div>\n",
    "\n",
    "### Scaled version"
   ]
  },
  {
   "cell_type": "code",
   "execution_count": 118,
   "metadata": {},
   "outputs": [],
   "source": [
    "# checking variance amongst clusters\n",
    "#np.var(X_pca_big5)"
   ]
  },
  {
   "cell_type": "code",
   "execution_count": 119,
   "metadata": {},
   "outputs": [
    {
     "name": "stdout",
     "output_type": "stream",
     "text": [
      "Conservative       1.504801\n",
      "Self Regulation    1.079486\n",
      "Warmhearted        0.886682\n",
      "Action Taker       0.836408\n",
      "Adventurer         0.692623\n",
      "dtype: float64 \n",
      "\n",
      "\n",
      "Conservative       1.0\n",
      "Self Regulation    1.0\n",
      "Warmhearted        1.0\n",
      "Action Taker       1.0\n",
      "Adventurer         1.0\n",
      "dtype: float64\n"
     ]
    }
   ],
   "source": [
    "# INSTANTIATING a StandardScaler() object\n",
    "scaler = StandardScaler()\n",
    "\n",
    "\n",
    "# FITTING the scaler with the data\n",
    "scaler.fit(X_pca_big5)\n",
    "\n",
    "\n",
    "# TRANSFORMING our data after fit\n",
    "X_scaled_pca_big5 = scaler.transform(X_pca_big5)\n",
    "\n",
    "\n",
    "# converting scaled data into a DataFrame\n",
    "pca_scaled_big5 = pd.DataFrame(X_scaled_pca_big5)\n",
    "\n",
    "\n",
    "# reattaching column names\n",
    "pca_scaled_big5.columns = ['Conservative',         \n",
    "                           'Self Regulation',          \n",
    "                           'Warmhearted',          \n",
    "                           'Action Taker',          \n",
    "                           'Adventurer'] \n",
    "\n",
    "\n",
    "# checking pre- and post-scaling variance\n",
    "print(np.var(X_pca_big5), '\\n\\n')\n",
    "print(np.var(pca_scaled_big5))"
   ]
  },
  {
   "cell_type": "markdown",
   "metadata": {},
   "source": [
    "### Agglomerative clustering"
   ]
  },
  {
   "cell_type": "code",
   "execution_count": 120,
   "metadata": {},
   "outputs": [
    {
     "data": {
      "image/png": "[encoded data removed]",
      "text/plain": [
       "<Figure size 864x864 with 1 Axes>"
      ]
     },
     "metadata": {
      "needs_background": "light"
     },
     "output_type": "display_data"
    }
   ],
   "source": [
    "# grouping data based on Ward distance\n",
    "standard_mergings_ward = linkage(y = pca_scaled_big5,\n",
    "                                 method = 'ward',\n",
    "                                 optimal_ordering = True)\n",
    "\n",
    "\n",
    "# setting plot size\n",
    "fig, ax = plt.subplots(figsize=(12, 12))\n",
    "\n",
    "# developing a dendrogram\n",
    "dendrogram(Z = standard_mergings_ward,\n",
    "           leaf_rotation = 90,\n",
    "           leaf_font_size = 6)\n",
    "\n",
    "\n",
    "# saving and displaying the plot\n",
    "plt.savefig('./analysis_images/standard_hierarchical_clust_ward.png')\n",
    "plt.show()"
   ]
  },
  {
   "cell_type": "markdown",
   "metadata": {},
   "source": [
    "### Inertia plot"
   ]
  },
  {
   "cell_type": "code",
   "execution_count": 121,
   "metadata": {},
   "outputs": [
    {
     "data": {
      "image/png": "[encoded data removed]",
      "text/plain": [
       "<Figure size 864x576 with 1 Axes>"
      ]
     },
     "metadata": {
      "needs_background": "light"
     },
     "output_type": "display_data"
    }
   ],
   "source": [
    "# calling the inertia_plot() function\n",
    "interia_plot(data = pca_scaled_big5)"
   ]
  },
  {
   "cell_type": "markdown",
   "metadata": {},
   "source": [
    "### Develop a k-Means model"
   ]
  },
  {
   "cell_type": "code",
   "execution_count": 122,
   "metadata": {},
   "outputs": [
    {
     "name": "stdout",
     "output_type": "stream",
     "text": [
      "0    40\n",
      "3    32\n",
      "2    27\n",
      "1    15\n",
      "Name: Cluster, dtype: int64\n"
     ]
    }
   ],
   "source": [
    "# INSTANTIATING a k-Means object with clusters\n",
    "big5_k_pca = KMeans(n_clusters   = 4,\n",
    "                    random_state = 219)\n",
    "\n",
    "\n",
    "# fitting the object to the data\n",
    "big5_k_pca.fit(pca_scaled_big5)\n",
    "\n",
    "\n",
    "# converting the clusters to a DataFrame\n",
    "big5_kmeans_pca = pd.DataFrame({'Cluster': big5_k_pca.labels_})\n",
    "\n",
    "\n",
    "# checking the results\n",
    "print(big5_kmeans_pca.iloc[: , 0].value_counts())"
   ]
  },
  {
   "cell_type": "markdown",
   "metadata": {},
   "source": [
    "After analyzing the dendrogram there were 6 clusters which funneled into 4 as height increased. This helps us understand cluster formation and size. To maximize the use of the inertia plot, as the gap between clusters decreases and becomes constant the cluster right before is the optimal amount. Despite the plot showing an ideal amount of 5 clusters, the centroids and the dendrogram indicate the ideal amount of clusters is 4 to showcase extreme values within the clusters. "
   ]
  },
  {
   "cell_type": "markdown",
   "metadata": {},
   "source": [
    "### Display the centroids for each cluster"
   ]
  },
  {
   "cell_type": "code",
   "execution_count": 123,
   "metadata": {},
   "outputs": [
    {
     "data": {
      "text/html": [
       "<div>\n",
       "<style scoped>\n",
       "    .dataframe tbody tr th:only-of-type {\n",
       "        vertical-align: middle;\n",
       "    }\n",
       "\n",
       "    .dataframe tbody tr th {\n",
       "        vertical-align: top;\n",
       "    }\n",
       "\n",
       "    .dataframe thead th {\n",
       "        text-align: right;\n",
       "    }\n",
       "</style>\n",
       "<table border=\"1\" class=\"dataframe\">\n",
       "  <thead>\n",
       "    <tr style=\"text-align: right;\">\n",
       "      <th></th>\n",
       "      <th>Conservative</th>\n",
       "      <th>Self Regulation</th>\n",
       "      <th>Warmhearted</th>\n",
       "      <th>Action Taker</th>\n",
       "      <th>Adventurer</th>\n",
       "    </tr>\n",
       "  </thead>\n",
       "  <tbody>\n",
       "    <tr>\n",
       "      <th>0</th>\n",
       "      <td>0.56</td>\n",
       "      <td>0.53</td>\n",
       "      <td>-0.19</td>\n",
       "      <td>-0.78</td>\n",
       "      <td>-0.20</td>\n",
       "    </tr>\n",
       "    <tr>\n",
       "      <th>1</th>\n",
       "      <td>0.60</td>\n",
       "      <td>-0.16</td>\n",
       "      <td>1.27</td>\n",
       "      <td>0.53</td>\n",
       "      <td>1.17</td>\n",
       "    </tr>\n",
       "    <tr>\n",
       "      <th>2</th>\n",
       "      <td>-0.23</td>\n",
       "      <td>-1.31</td>\n",
       "      <td>-0.34</td>\n",
       "      <td>-0.08</td>\n",
       "      <td>-0.23</td>\n",
       "    </tr>\n",
       "    <tr>\n",
       "      <th>3</th>\n",
       "      <td>-0.79</td>\n",
       "      <td>0.52</td>\n",
       "      <td>-0.06</td>\n",
       "      <td>0.79</td>\n",
       "      <td>-0.10</td>\n",
       "    </tr>\n",
       "  </tbody>\n",
       "</table>\n",
       "</div>"
      ],
      "text/plain": [
       "   Conservative  Self Regulation  Warmhearted  Action Taker  Adventurer\n",
       "0          0.56             0.53        -0.19         -0.78       -0.20\n",
       "1          0.60            -0.16         1.27          0.53        1.17\n",
       "2         -0.23            -1.31        -0.34         -0.08       -0.23\n",
       "3         -0.79             0.52        -0.06          0.79       -0.10"
      ]
     },
     "execution_count": 123,
     "metadata": {},
     "output_type": "execute_result"
    }
   ],
   "source": [
    "# storing cluster centers\n",
    "centroids_pca_big5 = big5_k_pca.cluster_centers_\n",
    "\n",
    "\n",
    "# converting cluster centers into a DataFrame\n",
    "centroids_pca_big5_df = pd.DataFrame(centroids_pca_big5)\n",
    "\n",
    "\n",
    "# renaming principal components\n",
    "centroids_pca_big5_df.columns = ['Conservative',         \n",
    "                               'Self Regulation',          \n",
    "                               'Warmhearted',          \n",
    "                               'Action Taker',          \n",
    "                               'Adventurer']          \n",
    "\n",
    "\n",
    "# checking results (clusters = rows, pc = columns)\n",
    "centroids_pca_big5_df.round(2)"
   ]
  },
  {
   "cell_type": "markdown",
   "metadata": {},
   "source": [
    "Due to the extreme values present within \"Self Regulation\", \"Warmhearted\", and \"Adventurer\" clusters 1 and 2 will be analyzed."
   ]
  },
  {
   "cell_type": "markdown",
   "metadata": {},
   "source": [
    "### Concatenate categorical columns and Big 5 PCA"
   ]
  },
  {
   "cell_type": "code",
   "execution_count": 124,
   "metadata": {},
   "outputs": [],
   "source": [
    "# concatenating cluster memberships with principal components\n",
    "big5_clst_pca_df = pd.concat([big5_kmeans_pca,\n",
    "                              X_pca_big5],\n",
    "                              axis = 1)\n",
    "\n",
    "\n",
    "# checking results\n",
    "big5_clst_pca_df\n",
    "\n",
    "# concatenating demographic information with pca-clusters\n",
    "big5_final_pca_clust_df = pd.concat([dataset.loc[ : , ['What laptop do you currently have?', \n",
    "                                                   'What laptop would you buy in next assuming if all laptops cost the same?',\n",
    "                                                   'What program are you in?',\n",
    "                                                   'Gender', \n",
    "                                                   'Age_Group',\n",
    "                                                   'World_Region',\n",
    "                                                   'What is your ethnicity?']],\n",
    "                                    big5_clst_pca_df],\n",
    "                                    axis = 1)\n",
    "\n",
    "# renaming columns\n",
    "big5_final_pca_clust_df.columns = ['Current Laptop',\n",
    "                                  'Next Laptop',\n",
    "                                  'Program',\n",
    "                                  'Gender',\n",
    "                                  'Age_Group',\n",
    "                                  'World_Region',\n",
    "                                  'Ethnicity',\n",
    "                                  'Big5 Cluster',\n",
    "                                  'Conservative',         \n",
    "                                   'Self Regulation',          \n",
    "                                   'Warmhearted',          \n",
    "                                   'Action Taker',          \n",
    "                                   'Adventurer']\n",
    "\n",
    "\n",
    "# checking the results\n",
    "#big5_final_pca_clust_df.head(n = 3)"
   ]
  },
  {
   "cell_type": "markdown",
   "metadata": {},
   "source": [
    "<div style='margin-top:0cm;margin-right:0cm;margin-bottom:10.0pt;margin-left:0cm;line-height:115%;font-size:15px;font-family:\"Calibri Light\",sans-serif;border-top:dotted #833C0B 1.0pt;border-left:none;border-bottom:dotted #833C0B 1.0pt;border-right:none;padding:1.0pt 0cm 6.0pt 0cm;'>\n",
    "    <h2 style='margin-top:25.0pt;margin-right:0cm;margin-bottom:15.0pt;margin-left:0cm;text-align:center;border:none;padding:0cm;font-size:29px;font-family:\"Calibri Light\",sans-serif;color:#833C0B;font-weight:normal;'>Hult DNA</h2>\n",
    "</div>"
   ]
  },
  {
   "cell_type": "code",
   "execution_count": 125,
   "metadata": {},
   "outputs": [
    {
     "data": {
      "image/png": "[encoded data removed]",
      "text/plain": [
       "<Figure size 720x576 with 1 Axes>"
      ]
     },
     "metadata": {
      "needs_background": "light"
     },
     "output_type": "display_data"
    }
   ],
   "source": [
    "#Instantiating PCA object, Hult DNA, with no limit to principal components\n",
    "Hult_pca = PCA(n_components = None,\n",
    "         random_state = 802)\n",
    "\n",
    "#Fitting and transforming\n",
    "Hult_pca_fit = Hult_pca.fit_transform(Hult)\n",
    "\n",
    "#Calling scree plot function\n",
    "scree_plot(pca_object = Hult_pca)"
   ]
  },
  {
   "cell_type": "markdown",
   "metadata": {},
   "source": [
    "### Identifying Qualities of Principal Components"
   ]
  },
  {
   "cell_type": "code",
   "execution_count": 126,
   "metadata": {},
   "outputs": [
    {
     "data": {
      "text/html": [
       "<div>\n",
       "<style scoped>\n",
       "    .dataframe tbody tr th:only-of-type {\n",
       "        vertical-align: middle;\n",
       "    }\n",
       "\n",
       "    .dataframe tbody tr th {\n",
       "        vertical-align: top;\n",
       "    }\n",
       "\n",
       "    .dataframe thead th {\n",
       "        text-align: right;\n",
       "    }\n",
       "</style>\n",
       "<table border=\"1\" class=\"dataframe\">\n",
       "  <thead>\n",
       "    <tr style=\"text-align: right;\">\n",
       "      <th></th>\n",
       "      <th>The Beginner</th>\n",
       "      <th>The Independent</th>\n",
       "      <th>The Chatterbox</th>\n",
       "    </tr>\n",
       "  </thead>\n",
       "  <tbody>\n",
       "    <tr>\n",
       "      <th>Team building</th>\n",
       "      <td>-0.559244</td>\n",
       "      <td>-0.802553</td>\n",
       "      <td>-0.207739</td>\n",
       "    </tr>\n",
       "    <tr>\n",
       "      <th>Thinking</th>\n",
       "      <td>-0.578651</td>\n",
       "      <td>0.557346</td>\n",
       "      <td>-0.595423</td>\n",
       "    </tr>\n",
       "    <tr>\n",
       "      <th>Communicating</th>\n",
       "      <td>-0.593641</td>\n",
       "      <td>0.212779</td>\n",
       "      <td>0.776090</td>\n",
       "    </tr>\n",
       "  </tbody>\n",
       "</table>\n",
       "</div>"
      ],
      "text/plain": [
       "               The Beginner  The Independent  The Chatterbox\n",
       "Team building     -0.559244        -0.802553       -0.207739\n",
       "Thinking          -0.578651         0.557346       -0.595423\n",
       "Communicating     -0.593641         0.212779        0.776090"
      ]
     },
     "execution_count": 126,
     "metadata": {},
     "output_type": "execute_result"
    }
   ],
   "source": [
    "# transposing pca components\n",
    "factor_loadings_hult = pd.DataFrame(np.transpose(Hult_pca.components_))\n",
    "\n",
    "\n",
    "# naming rows as original features\n",
    "factor_loadings_hult = factor_loadings_hult.set_index(Hult.columns)\n",
    "\n",
    "# naming each principal component\n",
    "factor_loadings_hult.columns = ['The Beginner',          # low negatives in every personality traits\n",
    "                             'The Independent',          # low in team building, high in thinking\n",
    "                             'The Chatterbox']           # low in thinking, high in communicating\n",
    "\n",
    "\n",
    "# checking the result\n",
    "factor_loadings_hult"
   ]
  },
  {
   "cell_type": "markdown",
   "metadata": {},
   "source": [
    "### Hult DNA PCA Component Interpretation\n",
    "\n",
    "This analysis has been made based on the explanation of the Hult DNA (Shaheem, 2019)\n",
    "\n",
    "<b>- Factor 1: The Beginner</b><br>\n",
    "\n",
    "The very new Hult student who still has a lot of work to develop their skills in Team building, thinking and communicating.\n",
    "\n",
    "<b>- Factor 2: The Independent</b><br>\n",
    "\n",
    "This persona is not good at fostering collaborative relationships with their peers and does not know how to deal constructively with conflicts.\n",
    "\n",
    "<b>- Factor 3: The Chatterbox</b><br>\n",
    "\n",
    "Even if this persona does not show self-awareness and no dynamic thinking, they speak and listen carefully and skillfully. This behavior leads to a development of the Thinking skill in the long-term. "
   ]
  },
  {
   "cell_type": "markdown",
   "metadata": {},
   "source": [
    "### Factor loadings for each customer"
   ]
  },
  {
   "cell_type": "code",
   "execution_count": 127,
   "metadata": {},
   "outputs": [
    {
     "data": {
      "text/html": [
       "<div>\n",
       "<style scoped>\n",
       "    .dataframe tbody tr th:only-of-type {\n",
       "        vertical-align: middle;\n",
       "    }\n",
       "\n",
       "    .dataframe tbody tr th {\n",
       "        vertical-align: top;\n",
       "    }\n",
       "\n",
       "    .dataframe thead th {\n",
       "        text-align: right;\n",
       "    }\n",
       "</style>\n",
       "<table border=\"1\" class=\"dataframe\">\n",
       "  <thead>\n",
       "    <tr style=\"text-align: right;\">\n",
       "      <th></th>\n",
       "      <th>The Beginner</th>\n",
       "      <th>The Independent</th>\n",
       "      <th>The Chatterbox</th>\n",
       "    </tr>\n",
       "  </thead>\n",
       "  <tbody>\n",
       "    <tr>\n",
       "      <th>0</th>\n",
       "      <td>-0.556278</td>\n",
       "      <td>-0.214547</td>\n",
       "      <td>-0.366682</td>\n",
       "    </tr>\n",
       "    <tr>\n",
       "      <th>1</th>\n",
       "      <td>-0.302941</td>\n",
       "      <td>-1.060944</td>\n",
       "      <td>0.059153</td>\n",
       "    </tr>\n",
       "    <tr>\n",
       "      <th>2</th>\n",
       "      <td>0.940058</td>\n",
       "      <td>-0.307563</td>\n",
       "      <td>0.288524</td>\n",
       "    </tr>\n",
       "    <tr>\n",
       "      <th>3</th>\n",
       "      <td>-1.001669</td>\n",
       "      <td>0.243030</td>\n",
       "      <td>1.226630</td>\n",
       "    </tr>\n",
       "    <tr>\n",
       "      <th>4</th>\n",
       "      <td>2.154036</td>\n",
       "      <td>0.158287</td>\n",
       "      <td>-0.455198</td>\n",
       "    </tr>\n",
       "  </tbody>\n",
       "</table>\n",
       "</div>"
      ],
      "text/plain": [
       "   The Beginner  The Independent  The Chatterbox\n",
       "0     -0.556278        -0.214547       -0.366682\n",
       "1     -0.302941        -1.060944        0.059153\n",
       "2      0.940058        -0.307563        0.288524\n",
       "3     -1.001669         0.243030        1.226630\n",
       "4      2.154036         0.158287       -0.455198"
      ]
     },
     "execution_count": 127,
     "metadata": {},
     "output_type": "execute_result"
    }
   ],
   "source": [
    "# analyzing factor strengths per customer\n",
    "X_Hult_pca_reduced = Hult_pca.transform(Hult)\n",
    "\n",
    "\n",
    "# converting to a DataFrame\n",
    "X_Hult_pca_df = pd.DataFrame(X_Hult_pca_reduced)\n",
    "\n",
    "\n",
    "# renaming columns\n",
    "X_Hult_pca_df.columns = factor_loadings_hult.columns\n",
    "\n",
    "\n",
    "# checking the results\n",
    "X_Hult_pca_df.head()"
   ]
  },
  {
   "cell_type": "code",
   "execution_count": 128,
   "metadata": {},
   "outputs": [],
   "source": [
    "#X_Hult_pca_df.to_excel('./analysis_results/PCA Factor Loadings.xlsx', index = False)"
   ]
  },
  {
   "cell_type": "markdown",
   "metadata": {},
   "source": [
    "<div style='margin-top:0cm;margin-right:0cm;margin-bottom:10.0pt;margin-left:0cm;line-height:115%;font-size:15px;font-family:\"Calibri Light\",sans-serif;border-top:line #833C0B 1.0pt;border-left:none;border-bottom:solid #833C0B 1.0pt;border-right:none;padding:1.0pt 0cm 6.0pt 0cm;'>\n",
    "    <h2 style='margin-top:25.0pt;margin-right:0cm;margin-bottom:15.0pt;margin-left:0cm;text-align:center;border:none;padding:0cm;font-size:20px;font-family:\"Calibri Light\",sans-serif;color:#833C0B;font-weight:normal;'>Clustering</h2>\n",
    "</div>\n",
    "\n",
    "### Scaled version"
   ]
  },
  {
   "cell_type": "code",
   "execution_count": 129,
   "metadata": {},
   "outputs": [],
   "source": [
    "# checking variance amongst clusters\n",
    "#np.var(X_Hult_pca_df)"
   ]
  },
  {
   "cell_type": "code",
   "execution_count": 130,
   "metadata": {},
   "outputs": [
    {
     "name": "stdout",
     "output_type": "stream",
     "text": [
      "The Beginner       2.129689\n",
      "The Independent    0.493186\n",
      "The Chatterbox     0.377126\n",
      "dtype: float64 \n",
      "\n",
      "\n",
      "The Beginner       1.0\n",
      "The Independent    1.0\n",
      "The Chatterbox     1.0\n",
      "dtype: float64\n"
     ]
    }
   ],
   "source": [
    "# INSTANTIATING a StandardScaler() object\n",
    "scaler = StandardScaler()\n",
    "\n",
    "\n",
    "# FITTING the scaler with the data\n",
    "scaler.fit(X_Hult_pca_df)\n",
    "\n",
    "\n",
    "# TRANSFORMING our data after fit\n",
    "X_Hult_scaled_pca = scaler.transform(X_Hult_pca_df)\n",
    "\n",
    "\n",
    "# converting scaled data into a DataFrame\n",
    "pca_Hult_scaled = pd.DataFrame(X_Hult_scaled_pca)\n",
    "\n",
    "\n",
    "# reattaching column names\n",
    "pca_Hult_scaled.columns = ['The Beginner',          # low negatives in every personality traits\n",
    "                             'The Independent',          # low in team building, high in thinking\n",
    "                             'The Chatterbox']           # low in thinking, high in communicating\n",
    "\n",
    "\n",
    "# checking pre- and post-scaling variance\n",
    "print(np.var(X_Hult_pca_df), '\\n\\n')\n",
    "print(np.var(pca_Hult_scaled))"
   ]
  },
  {
   "cell_type": "markdown",
   "metadata": {},
   "source": [
    "### Agglomerative clustering"
   ]
  },
  {
   "cell_type": "code",
   "execution_count": 131,
   "metadata": {},
   "outputs": [
    {
     "data": {
      "image/png": "[encoded data removed]",
      "text/plain": [
       "<Figure size 864x864 with 1 Axes>"
      ]
     },
     "metadata": {
      "needs_background": "light"
     },
     "output_type": "display_data"
    }
   ],
   "source": [
    "# grouping data based on Ward distance\n",
    "standard_mergings_ward = linkage(y = pca_Hult_scaled,\n",
    "                                 method = 'ward',\n",
    "                                 optimal_ordering = True)\n",
    "\n",
    "\n",
    "# setting plot size\n",
    "fig, ax = plt.subplots(figsize=(12, 12))\n",
    "\n",
    "# developing a dendrogram\n",
    "dendrogram(Z = standard_mergings_ward,\n",
    "           leaf_rotation = 90,\n",
    "           leaf_font_size = 6)\n",
    "\n",
    "\n",
    "# saving and displaying the plot\n",
    "#plt.savefig('./analysis_images/standard_hierarchical_clust_ward.png')\n",
    "plt.show()"
   ]
  },
  {
   "cell_type": "markdown",
   "metadata": {},
   "source": [
    "### Inertia plot"
   ]
  },
  {
   "cell_type": "code",
   "execution_count": 132,
   "metadata": {},
   "outputs": [
    {
     "data": {
      "image/png": "[encoded data removed]",
      "text/plain": [
       "<Figure size 864x576 with 1 Axes>"
      ]
     },
     "metadata": {
      "needs_background": "light"
     },
     "output_type": "display_data"
    }
   ],
   "source": [
    "# calling the inertia_plot() function\n",
    "interia_plot(data = pca_Hult_scaled)"
   ]
  },
  {
   "cell_type": "markdown",
   "metadata": {},
   "source": [
    "### Develop a k-Means model"
   ]
  },
  {
   "cell_type": "code",
   "execution_count": 133,
   "metadata": {},
   "outputs": [
    {
     "name": "stdout",
     "output_type": "stream",
     "text": [
      "3    42\n",
      "1    28\n",
      "2    25\n",
      "0    19\n",
      "Name: Cluster, dtype: int64\n"
     ]
    }
   ],
   "source": [
    "# INSTANTIATING a k-Means object with clusters\n",
    "survey_k_pca_hult = KMeans(n_clusters   = 4,\n",
    "                         random_state = 219)\n",
    "\n",
    "\n",
    "# fitting the object to the data\n",
    "survey_k_pca_hult.fit(pca_Hult_scaled)\n",
    "\n",
    "\n",
    "# converting the clusters to a DataFrame\n",
    "survey_kmeans_pca_hult = pd.DataFrame({'Cluster': survey_k_pca_hult.labels_})\n",
    "\n",
    "\n",
    "# checking the results\n",
    "print(survey_kmeans_pca_hult.iloc[: , 0].value_counts())"
   ]
  },
  {
   "cell_type": "markdown",
   "metadata": {},
   "source": [
    "The inertia and dendrogram plots aid in solidifying which number of clusters to use to determine the variance among each factor component. The length between points on the inertia plot begins to decrease and then remain constant after four clusters. After analyzing the variances within each cluster it was confirmed the majority of extremities existed when using four clusters. "
   ]
  },
  {
   "cell_type": "markdown",
   "metadata": {},
   "source": [
    "### Display the centroids for each cluster"
   ]
  },
  {
   "cell_type": "code",
   "execution_count": 134,
   "metadata": {},
   "outputs": [
    {
     "data": {
      "text/html": [
       "<div>\n",
       "<style scoped>\n",
       "    .dataframe tbody tr th:only-of-type {\n",
       "        vertical-align: middle;\n",
       "    }\n",
       "\n",
       "    .dataframe tbody tr th {\n",
       "        vertical-align: top;\n",
       "    }\n",
       "\n",
       "    .dataframe thead th {\n",
       "        text-align: right;\n",
       "    }\n",
       "</style>\n",
       "<table border=\"1\" class=\"dataframe\">\n",
       "  <thead>\n",
       "    <tr style=\"text-align: right;\">\n",
       "      <th></th>\n",
       "      <th>The Beginner</th>\n",
       "      <th>The Independent</th>\n",
       "      <th>The Chatterbox</th>\n",
       "    </tr>\n",
       "  </thead>\n",
       "  <tbody>\n",
       "    <tr>\n",
       "      <th>0</th>\n",
       "      <td>1.53</td>\n",
       "      <td>0.41</td>\n",
       "      <td>-0.43</td>\n",
       "    </tr>\n",
       "    <tr>\n",
       "      <th>1</th>\n",
       "      <td>0.01</td>\n",
       "      <td>-1.18</td>\n",
       "      <td>-0.09</td>\n",
       "    </tr>\n",
       "    <tr>\n",
       "      <th>2</th>\n",
       "      <td>-0.02</td>\n",
       "      <td>0.21</td>\n",
       "      <td>1.47</td>\n",
       "    </tr>\n",
       "    <tr>\n",
       "      <th>3</th>\n",
       "      <td>-0.68</td>\n",
       "      <td>0.48</td>\n",
       "      <td>-0.62</td>\n",
       "    </tr>\n",
       "  </tbody>\n",
       "</table>\n",
       "</div>"
      ],
      "text/plain": [
       "   The Beginner  The Independent  The Chatterbox\n",
       "0          1.53             0.41           -0.43\n",
       "1          0.01            -1.18           -0.09\n",
       "2         -0.02             0.21            1.47\n",
       "3         -0.68             0.48           -0.62"
      ]
     },
     "execution_count": 134,
     "metadata": {},
     "output_type": "execute_result"
    }
   ],
   "source": [
    "# storing cluster centers\n",
    "centroids_pca_hult = survey_k_pca_hult.cluster_centers_\n",
    "\n",
    "\n",
    "# converting cluster centers into a DataFrame\n",
    "centroids_pca_df_hult = pd.DataFrame(centroids_pca_hult)\n",
    "\n",
    "\n",
    "# renaming principal components\n",
    "centroids_pca_df_hult.columns = ['The Beginner',          # low negatives in every personality traits\n",
    "                             'The Independent',          # low in team building, high in thinking\n",
    "                             'The Chatterbox']           # low in thinking, high in communicating\n",
    "\n",
    "\n",
    "# checking results (clusters = rows, pc = columns)\n",
    "centroids_pca_df_hult.round(2)"
   ]
  },
  {
   "cell_type": "markdown",
   "metadata": {},
   "source": [
    "Due to the extreme values present within \"The Beginner\" and \"The Chatterbox\", clusters 0 and 2 will be analyzed."
   ]
  },
  {
   "cell_type": "markdown",
   "metadata": {},
   "source": [
    "### Concatenate categorical columns and Hult PCA "
   ]
  },
  {
   "cell_type": "code",
   "execution_count": 135,
   "metadata": {},
   "outputs": [],
   "source": [
    "# concatenating cluster memberships with principal components\n",
    "clst_pca_df_hult = pd.concat([survey_kmeans_pca_hult,\n",
    "                         X_Hult_pca_df],\n",
    "                         axis = 1)\n",
    "\n",
    "\n",
    "# checking results\n",
    "clst_pca_df_hult\n",
    "\n",
    "# concatenating demographic information with pca-clusters\n",
    "final_pca_clust_df_hult = pd.concat([dataset.loc[ : , ['What laptop do you currently have?', \n",
    "                                                   'What laptop would you buy in next assuming if all laptops cost the same?',\n",
    "                                                   'What program are you in?',\n",
    "                                                   'Gender', \n",
    "                                                   'Age_Group',\n",
    "                                                   'World_Region',\n",
    "                                                   'What is your ethnicity?']],\n",
    "                                clst_pca_df_hult],\n",
    "                                axis = 1)\n",
    "\n",
    "# renaming columns\n",
    "final_pca_clust_df_hult.columns = ['Current Laptop',\n",
    "                              'Next Laptop',\n",
    "                              'Program',\n",
    "                              'Gender',\n",
    "                              'Age_Group',\n",
    "                              'World_Region',\n",
    "                              'Ethnicity',\n",
    "                              'Cluster',\n",
    "                              'The Beginner',          \n",
    "                              'The Independent',         \n",
    "                              'The Chatterbox']         \n",
    "\n",
    "\n",
    "# checking the results\n",
    "#final_pca_clust_df_hult.head(n = 3)"
   ]
  },
  {
   "cell_type": "markdown",
   "metadata": {},
   "source": [
    "<div style='margin-top:0cm;margin-right:0cm;margin-bottom:10.0pt;margin-left:0cm;line-height:115%;font-size:15px;font-family:\"Calibri Light\",sans-serif;border-top:line #833C0B 1.0pt;border-left:none;border-bottom:solid #833C0B 1.0pt;border-right:none;padding:1.0pt 0cm 6.0pt 0cm;'>\n",
    "    <h2 style='margin-top:25.0pt;margin-right:0cm;margin-bottom:15.0pt;margin-left:0cm;text-align:center;border:none;padding:0cm;font-size:20px;font-family:\"Calibri Light\",sans-serif;color:#833C0B;font-weight:normal;'>Hult DNA Visualization</h2>\n",
    "</div>\n",
    "\n",
    "To avoid data dumpling and printing extensive amount of graphs some of the cells are frozen. \n",
    "\n",
    "### Laptop based on Hult DNA"
   ]
  },
  {
   "cell_type": "code",
   "execution_count": 136,
   "metadata": {
    "code_folding": [
     0
    ]
   },
   "outputs": [
    {
     "data": {
      "image/png": "[encoded data removed]",
      "text/plain": [
       "<Figure size 864x288 with 1 Axes>"
      ]
     },
     "metadata": {
      "needs_background": "light"
     },
     "output_type": "display_data"
    },
    {
     "data": {
      "image/png": "[encoded data removed]",
      "text/plain": [
       "<Figure size 864x288 with 1 Axes>"
      ]
     },
     "metadata": {
      "needs_background": "light"
     },
     "output_type": "display_data"
    }
   ],
   "source": [
    "#  Current Laptop - Hult DNA\n",
    "############################  \n",
    "\n",
    "# 1\n",
    "fig, ax = plt.subplots(figsize = (12, 4))\n",
    "sns.boxplot(x = 'Current Laptop',\n",
    "            y = 'The Beginner',\n",
    "            hue = 'Cluster',\n",
    "            palette = 'hls',\n",
    "            data = final_pca_clust_df_hult)\n",
    "\n",
    "# 2\n",
    "#fig, ax = plt.subplots(figsize = (12, 4))\n",
    "#sns.boxplot(x = 'Current Laptop',\n",
    " #           y = 'The Independent',\n",
    "  #          hue = 'Cluster',\n",
    "   #         palette = 'hls',\n",
    "    #        data = final_pca_clust_df_hult)\n",
    "\n",
    "\n",
    "# 3\n",
    "fig, ax = plt.subplots(figsize = (12, 4))\n",
    "sns.boxplot(x = 'Current Laptop',\n",
    "            y = 'The Chatterbox',\n",
    "            hue = 'Cluster',\n",
    "            palette = 'hls',\n",
    "            data = final_pca_clust_df_hult)\n",
    "\n",
    "\n",
    "# Print Boxplots\n",
    "plt.tight_layout()\n",
    "plt.show()"
   ]
  },
  {
   "cell_type": "code",
   "execution_count": null,
   "metadata": {
    "code_folding": [
     0
    ],
    "deletable": false,
    "editable": false,
    "run_control": {
     "frozen": true
    }
   },
   "outputs": [],
   "source": [
    "#  Next Laptop - Hult DNA\n",
    "############################ \n",
    "# 1\n",
    "fig, ax = plt.subplots(figsize = (12, 4))\n",
    "sns.boxplot(x = 'Next Laptop',\n",
    "            y = 'The Beginner',\n",
    "            hue = 'Cluster',\n",
    "            palette = 'hls',\n",
    "            data = final_pca_clust_df_hult)\n",
    "\n",
    "# 2\n",
    "#fig, ax = plt.subplots(figsize = (12, 4))\n",
    "#sns.boxplot(x = 'Next Laptop',\n",
    " #           y = 'The Independent',\n",
    "  #          hue = 'Cluster',\n",
    "   #         palette = 'hls',\n",
    "    #        data = final_pca_clust_df_hult)\n",
    "\n",
    "\n",
    "# 3\n",
    "fig, ax = plt.subplots(figsize = (12, 4))\n",
    "sns.boxplot(x = 'Next Laptop',\n",
    "            y = 'The Chatterbox',\n",
    "            hue = 'Cluster',\n",
    "            palette = 'hls',\n",
    "            data = final_pca_clust_df_hult)\n",
    "\n",
    "\n",
    "# Print Boxplots\n",
    "plt.tight_layout()\n",
    "plt.show()"
   ]
  },
  {
   "cell_type": "markdown",
   "metadata": {},
   "source": [
    "### Demographics\n"
   ]
  },
  {
   "cell_type": "code",
   "execution_count": null,
   "metadata": {
    "code_folding": [
     0
    ],
    "deletable": false,
    "editable": false,
    "run_control": {
     "frozen": true
    }
   },
   "outputs": [],
   "source": [
    "# Gender - Hult DNA #\n",
    "########################\n",
    "\n",
    "# Factor 1\n",
    "fig, ax = plt.subplots(figsize = (12, 6))\n",
    "sns.boxplot(x = 'Gender',\n",
    "            y = 'The Beginner',\n",
    "            hue = 'Cluster',\n",
    "            palette = 'hls',\n",
    "            data = final_pca_clust_df_hult)\n",
    "\n",
    "\n",
    "# Factor 2\n",
    "#fig, ax = plt.subplots(figsize = (12, 6))\n",
    "#sns.boxplot(x = 'Gender',\n",
    " #           y = 'The Independent',\n",
    "  #          hue = 'Cluster',\n",
    "   #         palette = 'hls',\n",
    "    #        data = final_pca_clust_df_hult)\n",
    "\n",
    "fig, ax = plt.subplots(figsize = (12, 6))\n",
    "sns.boxplot(x = 'Gender',\n",
    "            y = 'The Chatterbox',\n",
    "            hue = 'Cluster',\n",
    "            palette = 'hls',\n",
    "            data = final_pca_clust_df_hult)\n",
    "\n",
    "# formatting and displaying the plot\n",
    "plt.tight_layout()\n",
    "plt.show() "
   ]
  },
  {
   "cell_type": "code",
   "execution_count": null,
   "metadata": {
    "code_folding": [
     0
    ],
    "deletable": false,
    "editable": false,
    "run_control": {
     "frozen": true
    }
   },
   "outputs": [],
   "source": [
    "# Hult Program - Hult DNA #\n",
    "###########################\n",
    "\n",
    "# 1\n",
    "fig, ax = plt.subplots(figsize = (12,4))\n",
    "sns.boxplot(x = 'Program',\n",
    "            y = 'The Beginner',\n",
    "            hue = 'Cluster',\n",
    "            palette = 'hls',\n",
    "            data = final_pca_clust_df_hult)\n",
    "\n",
    "# 2\n",
    "#fig, ax = plt.subplots(figsize = (12, 4))\n",
    "#sns.boxplot(x = 'Program',\n",
    " #           y = 'The Independent',\n",
    "     #       hue = 'Cluster',\n",
    "      #      palette = 'hls',\n",
    "       #     data = final_pca_clust_df_hult)\n",
    "\n",
    "\n",
    "# 3\n",
    "fig, ax = plt.subplots(figsize = (12, 4))\n",
    "sns.boxplot(x = 'Program',\n",
    "            y = 'The Chatterbox',\n",
    "            hue = 'Cluster',\n",
    "            palette = 'hls',\n",
    "            data = final_pca_clust_df_hult)\n",
    "\n",
    "\n",
    "# Print Boxplots\n",
    "plt.tight_layout()\n",
    "plt.show()"
   ]
  },
  {
   "cell_type": "code",
   "execution_count": null,
   "metadata": {
    "code_folding": [
     0
    ],
    "deletable": false,
    "editable": false,
    "run_control": {
     "frozen": true
    }
   },
   "outputs": [],
   "source": [
    "# Age Group  -   Hult DNA #\n",
    "###########################\n",
    "\n",
    "\n",
    "# 1\n",
    "fig, ax = plt.subplots(figsize = (12, 6))\n",
    "sns.boxplot(x = 'Age_Group',\n",
    "            y = 'The Beginner',\n",
    "            hue = 'Cluster',\n",
    "            palette = 'hls',\n",
    "            data = final_pca_clust_df_hult)\n",
    "\n",
    "# 2\n",
    "#fig, ax = plt.subplots(figsize = (12, 6))\n",
    "#sns.boxplot(x = 'Age_Group',\n",
    " #           y = 'The Independent',\n",
    "  #          hue = 'Cluster',\n",
    "   #         palette = 'hls',\n",
    "    #        data = final_pca_clust_df_hult)\n",
    "\n",
    "\n",
    "# 3\n",
    "fig, ax = plt.subplots(figsize = (12, 6))\n",
    "sns.boxplot(x = 'Age_Group',\n",
    "            y = 'The Chatterbox',\n",
    "            hue = 'Cluster',\n",
    "            palette = 'hls',\n",
    "            data = final_pca_clust_df_hult)\n",
    "\n",
    "\n",
    "# Print Boxplots\n",
    "plt.tight_layout()\n",
    "plt.show()"
   ]
  },
  {
   "cell_type": "code",
   "execution_count": null,
   "metadata": {
    "code_folding": [
     0
    ],
    "deletable": false,
    "editable": false,
    "run_control": {
     "frozen": true
    }
   },
   "outputs": [],
   "source": [
    "# Nationality  -   Hult DNA #\n",
    "###########################\n",
    "# 1\n",
    "fig, ax = plt.subplots(figsize = (12, 4))\n",
    "sns.boxplot(x = 'World_Region',\n",
    "            y = 'The Beginner',\n",
    "            hue = 'Cluster',\n",
    "            palette = 'hls',\n",
    "            data = final_pca_clust_df_hult)\n",
    "\n",
    "# 2\n",
    "#fig, ax = plt.subplots(figsize = (12,4))\n",
    "#sns.boxplot(x = 'World_Region',\n",
    " #           y = 'The Independent',\n",
    "  #          hue = 'Cluster',\n",
    "   #         palette = 'hls',\n",
    "    #        data = final_pca_clust_df_hult)\n",
    "\n",
    "\n",
    "# 3\n",
    "fig, ax = plt.subplots(figsize = (12, 4))\n",
    "sns.boxplot(x = 'World_Region',\n",
    "            y = 'The Chatterbox',\n",
    "            hue = 'Cluster',\n",
    "            palette = 'hls',\n",
    "            data = final_pca_clust_df_hult)\n",
    "\n",
    "\n",
    "# Print Boxplots\n",
    "plt.tight_layout()\n",
    "plt.show()"
   ]
  },
  {
   "cell_type": "markdown",
   "metadata": {},
   "source": [
    "### Insights"
   ]
  },
  {
   "cell_type": "markdown",
   "metadata": {},
   "source": [
    "When identifying customers using the Hult DNA, we see early adoption rates within  the “Beginners” and “Chatterbox”. \n",
    "\n",
    "Beginners:\n",
    "These knowledge hungry students are ready to learn. Aged 25-35, they want to embrace the Apple Ecosystem by carrying all apple products and having them synced together. \n",
    "\n",
    "Chatterbox: \n",
    "These students know how to listen and think and when it comes to thinking about a long-term purchase they know embedding themselves within the Apple ecosystem is the way to go. "
   ]
  },
  {
   "cell_type": "markdown",
   "metadata": {},
   "source": [
    "<div style='margin-top:0cm;margin-right:0cm;margin-bottom:10.0pt;margin-left:0cm;line-height:115%;font-size:15px;font-family:\"Calibri Light\",sans-serif;border-top:line #833C0B 1.0pt;border-left:none;border-bottom:solid #833C0B 1.0pt;border-right:none;padding:1.0pt 0cm 6.0pt 0cm;'>\n",
    "    <h2 style='margin-top:25.0pt;margin-right:0cm;margin-bottom:15.0pt;margin-left:0cm;text-align:center;border:none;padding:0cm;font-size:20px;font-family:\"Calibri Light\",sans-serif;color:#833C0B;font-weight:normal;'>Big 5 Visualization</h2>\n",
    "</div>\n",
    "\n",
    "### Laptop based on Big 5"
   ]
  },
  {
   "cell_type": "code",
   "execution_count": null,
   "metadata": {
    "code_folding": [
     0
    ],
    "deletable": false,
    "editable": false,
    "run_control": {
     "frozen": true
    }
   },
   "outputs": [],
   "source": [
    "# Current Laptop -   Big 5 #\n",
    "###########################\n",
    "\n",
    "# 1\n",
    "#fig, ax = plt.subplots(figsize = (12, 4))\n",
    "#sns.boxplot(x = 'Current Laptop',\n",
    " #           y = 'Conservative',\n",
    "  #          hue = 'Big5 Cluster',\n",
    "   #         palette = 'Paired',\n",
    "    #        data = big5_final_pca_clust_df)\n",
    "\n",
    "# 2\n",
    "fig, ax = plt.subplots(figsize = (12, 4))\n",
    "sns.boxplot(x = 'Current Laptop',\n",
    "            y = 'Self Regulation',\n",
    "            hue = 'Big5 Cluster',\n",
    "            palette = 'Paired',\n",
    "            data = big5_final_pca_clust_df)\n",
    "\n",
    "# 3\n",
    "fig, ax = plt.subplots(figsize = (12, 4))\n",
    "sns.boxplot(x = 'Current Laptop',\n",
    "            y = 'Warmhearted',\n",
    "            hue = 'Big5 Cluster',\n",
    "            palette = 'Paired',\n",
    "            data = big5_final_pca_clust_df)\n",
    "\n",
    "# 4\n",
    "#fig, ax = plt.subplots(figsize = (12,4))\n",
    "#sns.boxplot(x = 'Current Laptop',\n",
    " #           y = 'Action Taker',\n",
    "  #          hue = 'Big5 Cluster',\n",
    "   #         palette = 'Paired',\n",
    "    #        data = big5_final_pca_clust_df)\n",
    "\n",
    "# 5\n",
    "#fig, ax = plt.subplots(figsize = (12, 4))\n",
    "#sns.boxplot(x = 'Current Laptop',\n",
    " #           y = 'Adventurer',\n",
    "  #          hue = 'Big5 Cluster',\n",
    "   #         palette = 'Paired',\n",
    "    #        data = big5_final_pca_clust_df)\n",
    "\n",
    "# Print Boxplots\n",
    "plt.tight_layout()\n",
    "plt.show()"
   ]
  },
  {
   "cell_type": "code",
   "execution_count": 137,
   "metadata": {
    "code_folding": [
     0
    ]
   },
   "outputs": [
    {
     "data": {
      "image/png": "[encoded data removed]",
      "text/plain": [
       "<Figure size 864x288 with 1 Axes>"
      ]
     },
     "metadata": {
      "needs_background": "light"
     },
     "output_type": "display_data"
    },
    {
     "data": {
      "image/png": "[encoded data removed]",
      "text/plain": [
       "<Figure size 864x288 with 1 Axes>"
      ]
     },
     "metadata": {
      "needs_background": "light"
     },
     "output_type": "display_data"
    }
   ],
   "source": [
    "# Next Laptop -   Big 5 #\n",
    "###########################\n",
    "\n",
    "# 1\n",
    "#fig, ax = plt.subplots(figsize = (12, 4))\n",
    "#sns.boxplot(x = 'Next Laptop',\n",
    " #           y = 'Conservative',\n",
    "  #          hue = 'Big5 Cluster',\n",
    "   #         palette = 'Paired',\n",
    "    #        data = big5_final_pca_clust_df)\n",
    "\n",
    "# 2\n",
    "fig, ax = plt.subplots(figsize = (12, 4))\n",
    "sns.boxplot(x = 'Next Laptop',\n",
    "            y = 'Self Regulation',\n",
    "            hue = 'Big5 Cluster',\n",
    "            palette = 'Paired',\n",
    "            data = big5_final_pca_clust_df)\n",
    "\n",
    "# 3\n",
    "fig, ax = plt.subplots(figsize = (12, 4))\n",
    "sns.boxplot(x = 'Next Laptop',\n",
    "            y = 'Warmhearted',\n",
    "            hue = 'Big5 Cluster',\n",
    "            palette = 'Paired',\n",
    "            data = big5_final_pca_clust_df)\n",
    "\n",
    "# 4\n",
    "#fig, ax = plt.subplots(figsize = (12, 4))\n",
    "#sns.boxplot(x = 'Next Laptop',\n",
    " #           y = 'Action Taker',\n",
    "  #          hue = 'Big5 Cluster',\n",
    "   #        palette = 'Paired',\n",
    "    #        data = big5_final_pca_clust_df)\n",
    "\n",
    "# 5\n",
    "#fig, ax = plt.subplots(figsize = (12, ))\n",
    "#sns.boxplot(x = 'Next Laptop',\n",
    " #           y = 'Adventurer',\n",
    "  #          hue = 'Big5 Cluster',\n",
    "   #         palette = 'Paired',\n",
    "    #        data = big5_final_pca_clust_df)\n",
    "\n",
    "# Print Boxplots\n",
    "plt.tight_layout()\n",
    "plt.show()"
   ]
  },
  {
   "cell_type": "markdown",
   "metadata": {},
   "source": [
    "### Demographics\n"
   ]
  },
  {
   "cell_type": "code",
   "execution_count": null,
   "metadata": {
    "code_folding": [
     0
    ],
    "deletable": false,
    "editable": false,
    "run_control": {
     "frozen": true
    },
    "scrolled": false
   },
   "outputs": [],
   "source": [
    "# Gender -   Big 5 #\n",
    "###########################\n",
    "\n",
    "# Factor 1\n",
    "#fig, ax = plt.subplots(figsize = (12, 6))\n",
    "#sns.boxplot(x = 'Gender',\n",
    " #           y = 'Conservative',\n",
    "  #          hue = 'Big5 Cluster',\n",
    "   #         palette = 'Paired',\n",
    "    #        data = big5_final_pca_clust_df)\n",
    "\n",
    "\n",
    "# Factor 2\n",
    "#fig, ax = plt.subplots(figsize = (12, 6))\n",
    "#sns.boxplot(x = 'Gender',\n",
    " #           y = 'Self Regulation',\n",
    "  #          hue = 'Big5 Cluster',\n",
    "   #         palette = 'Paired',\n",
    "    #        data = big5_final_pca_clust_df)\n",
    "\n",
    "# Factor 3\n",
    "fig, ax = plt.subplots(figsize = (12, 6))\n",
    "sns.boxplot(x = 'Gender',\n",
    "            y = 'Warmhearted',\n",
    "            hue = 'Big5 Cluster',\n",
    "            palette = 'Paired',\n",
    "            data = big5_final_pca_clust_df)\n",
    "\n",
    "# Factor 4\n",
    "#fig, ax = plt.subplots(figsize = (12, 6))\n",
    "#sns.boxplot(x = 'Gender',\n",
    " #           y = 'Action Taker',\n",
    "  #          hue = 'Big5 Cluster',\n",
    "   #         palette = 'Paired',\n",
    "    #        data = big5_final_pca_clust_df)\n",
    "\n",
    "# Factor 5\n",
    "# fig, ax = plt.subplots(figsize = (12, 6))\n",
    "#sns.boxplot(x = 'Gender',\n",
    " #           y = 'Adventurer',\n",
    "  #          hue = 'Big5 Cluster',\n",
    "   #         palette = 'Paired',\n",
    "    #        data = big5_final_pca_clust_df)\n",
    "\n",
    "# formatting and displaying the plot\n",
    "plt.tight_layout()\n",
    "plt.show()"
   ]
  },
  {
   "cell_type": "code",
   "execution_count": null,
   "metadata": {
    "code_folding": [
     0
    ],
    "deletable": false,
    "editable": false,
    "run_control": {
     "frozen": true
    },
    "scrolled": false
   },
   "outputs": [],
   "source": [
    "# Program -   Big 5 #\n",
    "###########################\n",
    "\n",
    "# 1\n",
    "#fig, ax = plt.subplots(figsize = (12, 6))\n",
    "#sns.boxplot(x = 'Program',\n",
    " #           y = 'Conservative',\n",
    "  #          hue = 'Big5 Cluster',\n",
    "   #         palette = 'Paired',\n",
    "    #        data = big5_final_pca_clust_df)\n",
    "\n",
    "# 2\n",
    "fig, ax = plt.subplots(figsize = (12, 6))\n",
    "sns.boxplot(x = 'Program',\n",
    "            y = 'Self Regulation',\n",
    "            hue = 'Big5 Cluster',\n",
    "            palette = 'Paired',\n",
    "            data = big5_final_pca_clust_df)\n",
    "\n",
    "# 3\n",
    "fig, ax = plt.subplots(figsize = (12, 6))\n",
    "sns.boxplot(x = 'Program',\n",
    "            y = 'Warmhearted',\n",
    "            hue = 'Big5 Cluster',\n",
    "            palette = 'Paired',\n",
    "            data = big5_final_pca_clust_df)\n",
    "\n",
    "# 4\n",
    "#fig, ax = plt.subplots(figsize = (12, 6))\n",
    "#sns.boxplot(x = 'Program',\n",
    " #           y = 'Action Taker',\n",
    "  #          hue = 'Big5 Cluster',\n",
    "   #         palette = 'Paired',\n",
    "    #        data = big5_final_pca_clust_df)\n",
    "\n",
    "# 5\n",
    "#fig, ax = plt.subplots(figsize = (12, 6))\n",
    "#sns.boxplot(x = 'Program',\n",
    " #           y = 'Adventurer',\n",
    "  #          hue = 'Big5 Cluster',\n",
    "   #         palette = 'Paired',\n",
    "    #        data = big5_final_pca_clust_df)\n",
    "\n",
    "# Print Boxplots\n",
    "plt.tight_layout()\n",
    "plt.show()"
   ]
  },
  {
   "cell_type": "code",
   "execution_count": null,
   "metadata": {
    "code_folding": [
     0
    ],
    "deletable": false,
    "editable": false,
    "run_control": {
     "frozen": true
    }
   },
   "outputs": [],
   "source": [
    "# Age Group  -   Big 5 #\n",
    "###########################\n",
    "# 1\n",
    "#fig, ax = plt.subplots(figsize = (12, 6))\n",
    "#sns.boxplot(x = 'Age_Group',\n",
    " #           y = 'Conservative',\n",
    "  #          hue = 'Big5 Cluster',\n",
    "   #         palette = 'Paired',\n",
    "    #        data = big5_final_pca_clust_df)\n",
    "\n",
    "# 2\n",
    "#fig, ax = plt.subplots(figsize = (12, 6))\n",
    "#sns.boxplot(x = 'Age_Group',\n",
    " #           y = 'Self Regulation',\n",
    "  #          hue = 'Big5 Cluster',\n",
    "   #         palette = 'Paired',\n",
    "    #        data = big5_final_pca_clust_df)\n",
    "\n",
    "\n",
    "# 3\n",
    "fig, ax = plt.subplots(figsize = (12, 6))\n",
    "sns.boxplot(x = 'Age_Group',\n",
    "            y = 'Warmhearted',\n",
    "            hue = 'Big5 Cluster',\n",
    "            palette = 'Paired',\n",
    "            data = big5_final_pca_clust_df)\n",
    "\n",
    "# 3\n",
    "#fig, ax = plt.subplots(figsize = (12, 6))\n",
    "#sns.boxplot(x = 'Age_Group',\n",
    " #           y = 'Action Taker',\n",
    "  #          hue = 'Big5 Cluster',\n",
    "   #         palette = 'Paired',\n",
    "    #        data = big5_final_pca_clust_df)\n",
    "\n",
    "# 3\n",
    "#fig, ax = plt.subplots(figsize = (12, 6))\n",
    "#sns.boxplot(x = 'Age_Group',\n",
    " #           y = 'Adventurer',\n",
    "  #          hue = 'Big5 Cluster',\n",
    "   #         palette = 'Paired',\n",
    "    #        data = big5_final_pca_clust_df)\n",
    "\n",
    "# Print Boxplots\n",
    "plt.tight_layout()\n",
    "plt.show()"
   ]
  },
  {
   "cell_type": "code",
   "execution_count": null,
   "metadata": {
    "code_folding": [
     0
    ],
    "deletable": false,
    "editable": false,
    "run_control": {
     "frozen": true
    }
   },
   "outputs": [],
   "source": [
    "# Nationality  -   Hult DNA #\n",
    "###########################\n",
    "# 1\n",
    "#fig, ax = plt.subplots(figsize = (12, 6))\n",
    "#sns.boxplot(x = 'World_Region',\n",
    " #           y = 'Conservative',\n",
    "  #          hue = 'Big5 Cluster',\n",
    "   #         palette = 'Paired',\n",
    "    #        data = big5_final_pca_clust_df)\n",
    "\n",
    "# 2\n",
    "fig, ax = plt.subplots(figsize = (12, 6))\n",
    "sns.boxplot(x = 'World_Region',\n",
    "            y = 'Self Regulation',\n",
    "            hue = 'Big5 Cluster',\n",
    "            palette = 'Paired',\n",
    "            data = big5_final_pca_clust_df)\n",
    "\n",
    "\n",
    "# 3\n",
    "fig, ax = plt.subplots(figsize = (12, 6))\n",
    "sns.boxplot(x = 'World_Region',\n",
    "            y = 'Warmhearted',\n",
    "            hue = 'Big5 Cluster',\n",
    "            palette = 'Paired',\n",
    "            data = big5_final_pca_clust_df)\n",
    "\n",
    "# 3\n",
    "#fig, ax = plt.subplots(figsize = (12, 6))\n",
    "#sns.boxplot(x = 'World_Region',\n",
    " #           y = 'Action Taker',\n",
    "  #          hue = 'Big5 Cluster',\n",
    "   #         palette = 'Paired',\n",
    "    #        data = big5_final_pca_clust_df)\n",
    "\n",
    "# 3\n",
    "#fig, ax = plt.subplots(figsize = (12, 6))\n",
    "#sns.boxplot(x = 'World_Region',\n",
    " #           y = 'Adventurer',\n",
    "  #          hue = 'Big5 Cluster',\n",
    "   #         palette = 'Paired',\n",
    "    #        data = big5_final_pca_clust_df)\n",
    "\n",
    "# Print Boxplots\n",
    "plt.tight_layout()\n",
    "plt.show()"
   ]
  },
  {
   "cell_type": "markdown",
   "metadata": {},
   "source": [
    "### Insights"
   ]
  },
  {
   "cell_type": "markdown",
   "metadata": {},
   "source": [
    "Apple has had much success amongst the “warmhearted” so much so some within this segment plan to convert from a windows to Mac user with their next purchase. Apple has successfully targeted empathetic people, specifically women with their relatable and sensitive advertising campaigns. These women are also highly knowledgeable as they plan to dominate business fields with their dual degrees (overlap in business analytics). Macs are being adopted by young professional coders (aged 25-35) with heave adoption rates coming from the Asian students. \n",
    "\n",
    "We see negative extreme centroids within the second cluster of \"self regulated\". The majority are coming from Europe and are becoming less prone to buying Macs as they are currently Mac owners but plan to switch to windows. They are heavily involved in the business analytics field. \n"
   ]
  },
  {
   "cell_type": "markdown",
   "metadata": {},
   "source": [
    "<div style='margin-top:0cm;margin-right:0cm;margin-bottom:10.0pt;margin-left:0cm;line-height:115%;font-size:15px;font-family:\"Calibri Light\",sans-serif;border-top:dotted #833C0B 1.0pt;border-left:none;border-bottom:dotted #833C0B 1.0pt;border-right:none;padding:1.0pt 0cm 6.0pt 0cm;'>\n",
    "    <h2 style='margin-top:25.0pt;margin-right:0cm;margin-bottom:15.0pt;margin-left:0cm;text-align:center;border:none;padding:0cm;font-size:29px;font-family:\"Calibri Light\",sans-serif;color:#833C0B;font-weight:normal;'>Recommendations</h2>\n",
    "</div>"
   ]
  },
  {
   "cell_type": "markdown",
   "metadata": {},
   "source": [
    "Based on the analysis, and after identifying different personae for the wide range of the company's clients, Apple can use their knowledge within the industry and the aforementioned analysis to augment their position through customer acquisition and retention.\n",
    "\n",
    "\n",
    "This analysis aided by enabling the creation of different personae representing the Macbook clientele and who is more likely to buy a Mac. Furthermore, it pinpoints what experience the consumer is looking for when doing so. The data was split pretty equally between MacBook and windows users. Despite this being a small sample size Apple can do the following: \n",
    "\n",
    "  <ul style=\"margin-bottom:0cm;list-style-type: disc;\">\n",
    "        <li style='margin-top:0cm;margin-right:0cm;margin-bottom:10.0pt;margin-left:0cm;line-height:115%;font-size:15px;font-family:\"Arial Light\",sans-serif;'><span style='font-family:\"Arial\",sans-serif;font-size:14px;'>Shorten survey length to ensure quality data collection as longer surveys are proven to be prone to lower quality responses  <a href=\"https://peoplepulse.com/resources/useful-articles/excessive-survey-length\">(Paul Quinn)</a>.</span></li>\n",
    "    </ul>\n",
    "    \n",
    "   <ul style=\"margin-bottom:0cm;list-style-type: disc;\">\n",
    "        <li style='margin-top:0cm;margin-right:0cm;margin-bottom:10.0pt;margin-left:0cm;line-height:115%;font-size:15px;font-family:\"Arial Light\",sans-serif;'><span style='font-family:\"Arial\",sans-serif;font-size:14px;'>The Beginners and Chatterbox are willing to be engulfed in the Apple Ecosystem so targeting them with complimenting products will only further deepen their connection to Apple  <a href=\"https://research-methodology.net/apple-ecosystem-closed-effective\"> (John Dudovskiy)</a>.</span></li>\n",
    "    </ul>\n",
    "    <ul style=\"margin-bottom:0cm;list-style-type: disc;\">\n",
    "        <li style='margin-top:0cm;margin-right:0cm;margin-bottom:10.0pt;margin-left:0cm;line-height:115%;font-size:15px;font-family:\"Arial Light\",sans-serif;'><span style='font-family:\"Arial\",sans-serif;font-size:14px;'>Asian markets are growing while European is diminishing as seen within the warmhearted and self regulated clusters (Adam Rothman). Create a marketing campaign pinpointing the power of Macs and the hardware embedded within the computer. Its not just a screen for everyday use but a computer for professionals with the power to complete any task  <a href=\"https://www.macworld.com/article/3137575/the-new-macbook-pro-isnt-just-a-laptop-its-a-strategy-shift.html\">(Michael Simon).</span></li>\n",
    "    </ul>"
   ]
  },
  {
   "cell_type": "markdown",
   "metadata": {},
   "source": [
    "# Bibliography"
   ]
  },
  {
   "cell_type": "markdown",
   "metadata": {},
   "source": [
    "Cherry, K. (2021, February 20). What are the big 5 personality traits? Retrieved February 23, 2021, from https://www.verywellmind.com/the-big-five-personality-dimensions-2795422#what-are-the-big-five-dimensions-of-personality <br><br>\n",
    "Dudovsky, J., 2019, Apple Ecosystem: closed and effective, Available at https://research-methodology.net/apple-ecosystem-closed-effective, accessed at 02.22.2021.<br><br>\n",
    "Rothman, L. (2020, September 16). Apple's 5 most profitable BUSINESS Regions (aapl). Retrieved February 23, 2021, from https://www.investopedia.com/articles/markets/031316/apples-5-most-profitable-lines-business-aapl.asp <br><br>\n",
    "Shaheem, S. (2019). Why every leader needs a growth mindset. Retrieved from Hult Blog: https://www.hult.edu/blog/why-every-leader-needs-growth-mindset/#:~:text=The%20Hult%20DNA%E2%80%94Learning%20to%20lead&text=The%20Hult%20DNA%20is%20a,%2C%20Communicating%2C%20and%20Team%20Building.&text=The%20results%20form%20the%20basis%20of%20a%20leader <br><br>\n",
    "Simon, M. (2016, November 02). The new MacBook Pro isn't just a laptop, it's a strategy shift. Retrieved February 23, 2021, from https://www.macworld.com/article/3137575/the-new-macbook-pro-isnt-just-a-laptop-its-a-strategy-shift.html <br><br>\n",
    "Quinn, P. (2019, July 02). Excessive survey length - improving survey effectiveness! Retrieved February 23, 2021, from https://peoplepulse.com/resources/useful-articles/excessive-survey-length/ <br><br>"
   ]
  },
  {
   "cell_type": "code",
   "execution_count": null,
   "metadata": {},
   "outputs": [],
   "source": []
  }
 ],
 "metadata": {
  "kernelspec": {
   "display_name": "Python 3",
   "language": "python",
   "name": "python3"
  },
  "language_info": {
   "codemirror_mode": {
    "name": "ipython",
    "version": 3
   },
   "file_extension": ".py",
   "mimetype": "text/x-python",
   "name": "python",
   "nbconvert_exporter": "python",
   "pygments_lexer": "ipython3",
   "version": "3.8.3"
  },
  "toc": {
   "base_numbering": 1,
   "nav_menu": {},
   "number_sections": false,
   "sideBar": true,
   "skip_h1_title": false,
   "title_cell": "Table of Contents",
   "title_sidebar": "Contents",
   "toc_cell": false,
   "toc_position": {
    "height": "calc(100% - 180px)",
    "left": "10px",
    "top": "150px",
    "width": "288px"
   },
   "toc_section_display": true,
   "toc_window_display": true
  },
  "varInspector": {
   "cols": {
    "lenName": 16,
    "lenType": 16,
    "lenVar": 40
   },
   "kernels_config": {
    "python": {
     "delete_cmd_postfix": "",
     "delete_cmd_prefix": "del ",
     "library": "var_list.py",
     "varRefreshCmd": "print(var_dic_list())"
    },
    "r": {
     "delete_cmd_postfix": ") ",
     "delete_cmd_prefix": "rm(",
     "library": "var_list.r",
     "varRefreshCmd": "cat(var_dic_list()) "
    }
   },
   "types_to_exclude": [
    "module",
    "function",
    "builtin_function_or_method",
    "instance",
    "_Feature"
   ],
   "window_display": false
  }
 },
 "nbformat": 4,
 "nbformat_minor": 4
}
